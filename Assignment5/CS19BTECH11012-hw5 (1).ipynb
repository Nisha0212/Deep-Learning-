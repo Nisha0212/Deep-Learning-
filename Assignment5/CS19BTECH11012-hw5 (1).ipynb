{
 "cells": [
  {
   "cell_type": "code",
   "execution_count": 1,
   "id": "b142e825",
   "metadata": {},
   "outputs": [],
   "source": [
    "import numpy as np\n",
    "import torch as pt\n",
    "import torchvision\n",
    "import torch\n",
    "import torch.nn as nn\n",
    "from torch.nn import functional as F\n",
    "import torch.optim as optim\n",
    "from torch.nn.init import xavier_uniform\n",
    "from torch.utils.data import Dataset\n",
    "from torch.autograd import Variable\n",
    "import matplotlib.pyplot as plt\n",
    "from collections import Counter\n",
    "from sklearn.preprocessing import LabelBinarizer"
   ]
  },
  {
   "cell_type": "code",
   "execution_count": 2,
   "id": "12798106",
   "metadata": {},
   "outputs": [],
   "source": [
    "#loading the train and test datasets using pytorch\n",
    "train_dataset = torchvision.datasets.MNIST('../data', train=True, download=True,\n",
    "                   transform=torchvision.transforms.Compose([\n",
    "                       torchvision.transforms.ToTensor(),\n",
    "                       torchvision.transforms.Normalize((0.1307,), (0.3081,))\n",
    "                   ]))\n",
    "test_dataset = torchvision.datasets.MNIST('../data', train=False, transform=torchvision.transforms.Compose([\n",
    "                       torchvision.transforms.ToTensor(),\n",
    "                       torchvision.transforms.Normalize((0.1307,), (0.3081,))\n",
    "                   ]))"
   ]
  },
  {
   "cell_type": "code",
   "execution_count": 3,
   "id": "b227abd9",
   "metadata": {},
   "outputs": [],
   "source": [
    "#this class has the helper functions to sample the train and test data to get the\n",
    "#required number of samples from each set as asked in the assignemnt problem staement\n",
    "from torch.utils.data.sampler import BatchSampler\n",
    "\n",
    "\n",
    "class BalancedBatchSampler(BatchSampler):\n",
    "    \"\"\"\n",
    "    BatchSampler - from a MNIST-like dataset, samples n_classes and within these classes samples n_samples.\n",
    "    Returns batches of size n_classes * n_samples\n",
    "    \"\"\"\n",
    "\n",
    "    def __init__(self, labels, n_classes, n_samples):\n",
    "        self.labels = labels\n",
    "        self.labels_set = list(set(self.labels.numpy()))\n",
    "        self.label_to_indices = {label: np.where(self.labels.numpy() == label)[0]\n",
    "                                 for label in self.labels_set}\n",
    "        for l in self.labels_set:\n",
    "            np.random.shuffle(self.label_to_indices[l])\n",
    "        self.used_label_indices_count = {label: 0 for label in self.labels_set}\n",
    "        self.count = 0\n",
    "        self.n_classes = n_classes\n",
    "        self.n_samples = n_samples\n",
    "        self.n_dataset = len(self.labels)\n",
    "        self.batch_size = self.n_samples * self.n_classes\n",
    "\n",
    "    def __iter__(self):\n",
    "        self.count = 0\n",
    "        while self.count + self.batch_size <= self.n_dataset:\n",
    "            classes = np.random.choice(self.labels_set, self.n_classes, replace=False)\n",
    "            indices = []\n",
    "            for class_ in classes:\n",
    "                indices.extend(self.label_to_indices[class_][\n",
    "                               self.used_label_indices_count[class_]:self.used_label_indices_count[\n",
    "                                                                         class_] + self.n_samples])\n",
    "                self.used_label_indices_count[class_] += self.n_samples\n",
    "                if self.used_label_indices_count[class_] + self.n_samples > len(self.label_to_indices[class_]):\n",
    "                    np.random.shuffle(self.label_to_indices[class_])\n",
    "                    self.used_label_indices_count[class_] = 0\n",
    "            yield indices\n",
    "            self.count += self.n_classes * self.n_samples\n",
    "\n",
    "    def __len__(self):\n",
    "        return self.n_dataset // self.batch_size"
   ]
  },
  {
   "cell_type": "code",
   "execution_count": 4,
   "id": "f47c2ddc",
   "metadata": {},
   "outputs": [
    {
     "name": "stderr",
     "output_type": "stream",
     "text": [
      "/home/sid/anaconda3/envs/pytorch/lib/python3.9/site-packages/torchvision/datasets/mnist.py:52: UserWarning: train_labels has been renamed targets\n",
      "  warnings.warn(\"train_labels has been renamed targets\")\n",
      "/home/sid/anaconda3/envs/pytorch/lib/python3.9/site-packages/torchvision/datasets/mnist.py:57: UserWarning: test_labels has been renamed targets\n",
      "  warnings.warn(\"test_labels has been renamed targets\")\n"
     ]
    }
   ],
   "source": [
    "#get 100 samples from each class (10 in total) making a total of 1000 samples to train\n",
    "train_batch_smapler=BalancedBatchSampler(train_dataset.train_labels,n_classes=10,n_samples=100)\n",
    "train_loader=torch.utils.data.DataLoader(train_dataset,batch_sampler=train_batch_smapler)\n",
    "\n",
    "#get 10 samples from each class (10 in total) making a total of 100 samples to test\n",
    "test_batch_smapler=BalancedBatchSampler(test_dataset.test_labels,n_classes=10,n_samples=10)\n",
    "test_loader=torch.utils.data.DataLoader(test_dataset,batch_sampler=test_batch_smapler)"
   ]
  },
  {
   "cell_type": "code",
   "execution_count": 5,
   "id": "70e4149e",
   "metadata": {},
   "outputs": [],
   "source": [
    "#select the first batch of 1000 samples from the data loader of train\n",
    "for x,(d,t) in enumerate(train_loader):\n",
    "    if x==0:\n",
    "        train_data = d\n",
    "        train_labels = t\n",
    "    else:\n",
    "        break\n",
    "        \n",
    "#select the first batch of 100 samples from the data loader of test\n",
    "for x,(d,t) in enumerate(test_loader):\n",
    "    if x==0:\n",
    "        test_data = d\n",
    "        test_labels = t\n",
    "    else:\n",
    "        break"
   ]
  },
  {
   "cell_type": "markdown",
   "id": "b09864f7",
   "metadata": {},
   "source": [
    "## Question1 feed forward "
   ]
  },
  {
   "cell_type": "code",
   "execution_count": 6,
   "id": "05430ca7",
   "metadata": {},
   "outputs": [],
   "source": [
    "#function to initialize weights that would be updated further during the trainig process\n",
    "def initialize_W(n):\n",
    "    if isinstance(n, nn.Linear) or isinstance(n, nn.Conv2d):\n",
    "        print('Initializing weights for layer: {0}'.format(n))\n",
    "        xavier_uniform(n.weight)"
   ]
  },
  {
   "cell_type": "code",
   "execution_count": 7,
   "id": "c3de9cdd",
   "metadata": {},
   "outputs": [],
   "source": [
    "# The convolution nueral network framework or the feed forward\n",
    "#no drouputs and no batch normalization\n",
    "class Net(nn.Module):\n",
    "    def __init__(self):\n",
    "        super(Net, self).__init__()\n",
    "        self.conv1 = nn.Conv2d(1, 10, kernel_size=5) \n",
    "        self.conv2 = nn.Conv2d(10, 20, kernel_size=5)\n",
    "        self.fc1 = nn.Linear(320, 50)\n",
    "        self.fc2 = nn.Linear(50, 10)\n",
    "\n",
    "    def forward(self, x):\n",
    "        x = F.relu(F.max_pool2d(self.conv1(x), 2))\n",
    "        x = F.relu(F.max_pool2d(self.conv2(x), 2))\n",
    "        x = x.view(-1, 320)\n",
    "        x = F.relu(self.fc1(x))\n",
    "        x = self.fc2(x)\n",
    "        return F.log_softmax(x, dim=1)"
   ]
  },
  {
   "cell_type": "markdown",
   "id": "1a51eede",
   "metadata": {},
   "source": [
    "Cross entropy loss"
   ]
  },
  {
   "cell_type": "code",
   "execution_count": 8,
   "id": "b8e7b13a",
   "metadata": {},
   "outputs": [],
   "source": [
    "loss_ce = nn.CrossEntropyLoss()"
   ]
  },
  {
   "cell_type": "code",
   "execution_count": 9,
   "id": "5fad0abf",
   "metadata": {},
   "outputs": [],
   "source": [
    "# train the CNN\n",
    "#here the optimizer can be anything among vanilla SGd, momentum and RMSProp\n",
    "def train(epoch,opt):\n",
    "    model.train()\n",
    "    data = Variable(train_data)\n",
    "    target = Variable(train_labels)\n",
    "    opt.zero_grad()\n",
    "    ip = model(data)\n",
    "    loss = loss_ce(ip, target)\n",
    "    loss.backward()\n",
    "    opt.step()"
   ]
  },
  {
   "cell_type": "code",
   "execution_count": 10,
   "id": "8790fb27",
   "metadata": {},
   "outputs": [],
   "source": [
    "#function to test the CNN \n",
    "def test(epoch):\n",
    "    X=[]\n",
    "    model.eval()\n",
    "    test_err = 0\n",
    "    tp = 0\n",
    "    data =  Variable(test_data, volatile=True)\n",
    "    target = Variable(test_labels)\n",
    "    output = model(data)\n",
    "    test_err += loss_ce(output, target).data \n",
    "    pred = output.data.max(1, keepdim=True)[1] \n",
    "    tp += pred.eq(target.data.view_as(pred)).long().cpu().sum()\n",
    "    \n",
    "    if epoch==1 or epoch==15:\n",
    "        X=pred\n",
    "    test_err /= 100\n",
    "    test_acc = 100. * tp / 100\n",
    "    print(f\"Test set results : loss = {test_err} , accuracy = {test_acc}\")\n",
    "    \n",
    "    return test_err,test_acc,X"
   ]
  },
  {
   "cell_type": "code",
   "execution_count": 11,
   "id": "091ac24c",
   "metadata": {},
   "outputs": [],
   "source": [
    "#function to calculate the train accuracy\n",
    "def train_accuracy():\n",
    "    model.eval()\n",
    "    train_err = 0\n",
    "    tp = 0\n",
    "    data = Variable(train_data, volatile=True)\n",
    "    target =  Variable(train_labels)\n",
    "    output = model(data)\n",
    "    train_err += loss_ce(output, target).data \n",
    "    pred = output.data.max(1, keepdim=True)[1] \n",
    "    tp += pred.eq(target.data.view_as(pred)).long().cpu().sum()\n",
    "    train_err /= 1000\n",
    "    train_accu= (tp/ 1000) *100\n",
    "    print(f\"Train set results : loss = {train_err} , accuracy = {train_accu}\")\n",
    "    return train_err,train_accu"
   ]
  },
  {
   "cell_type": "markdown",
   "id": "a3854996",
   "metadata": {},
   "source": [
    "## Question2"
   ]
  },
  {
   "cell_type": "code",
   "execution_count": 12,
   "id": "f20f1617",
   "metadata": {},
   "outputs": [
    {
     "name": "stdout",
     "output_type": "stream",
     "text": [
      "Initializing weights for layer: Conv2d(1, 10, kernel_size=(5, 5), stride=(1, 1))\n",
      "Initializing weights for layer: Conv2d(10, 20, kernel_size=(5, 5), stride=(1, 1))\n",
      "Initializing weights for layer: Linear(in_features=320, out_features=50, bias=True)\n",
      "Initializing weights for layer: Linear(in_features=50, out_features=10, bias=True)\n"
     ]
    },
    {
     "name": "stderr",
     "output_type": "stream",
     "text": [
      "/tmp/ipykernel_58727/3934088816.py:5: UserWarning: nn.init.xavier_uniform is now deprecated in favor of nn.init.xavier_uniform_.\n",
      "  xavier_uniform(n.weight)\n"
     ]
    },
    {
     "data": {
      "text/plain": [
       "Net(\n",
       "  (conv1): Conv2d(1, 10, kernel_size=(5, 5), stride=(1, 1))\n",
       "  (conv2): Conv2d(10, 20, kernel_size=(5, 5), stride=(1, 1))\n",
       "  (fc1): Linear(in_features=320, out_features=50, bias=True)\n",
       "  (fc2): Linear(in_features=50, out_features=10, bias=True)\n",
       ")"
      ]
     },
     "execution_count": 12,
     "metadata": {},
     "output_type": "execute_result"
    }
   ],
   "source": [
    "#initialize the model with the feed foward path mentioned above\n",
    "model = Net()\n",
    "model.apply(initialize_W) #initialize the wights for all the layers"
   ]
  },
  {
   "cell_type": "code",
   "execution_count": 13,
   "id": "2873aed2",
   "metadata": {},
   "outputs": [],
   "source": [
    "#Three optimizers to be tried\n",
    "optimizer1 = optim.SGD(model.parameters(), lr=0.001)\n",
    "optimizer2 = optim.SGD(model.parameters(), lr=0.01, momentum=0.9)\n",
    "optimizer3 = optim.RMSprop(model.parameters(),lr=0.001,alpha=0.9)\n",
    "\n",
    "opt_list=[optimizer1,optimizer2,optimizer3]\n",
    "opt_list_str=[\"Vanilla SGD\",\"Momentum SGD\",\"RMSProp\"]"
   ]
  },
  {
   "cell_type": "code",
   "execution_count": 14,
   "id": "3909eae2",
   "metadata": {},
   "outputs": [
    {
     "name": "stdout",
     "output_type": "stream",
     "text": [
      "Training in process for SGD (\n",
      "Parameter Group 0\n",
      "    dampening: 0\n",
      "    lr: 0.001\n",
      "    momentum: 0\n",
      "    nesterov: False\n",
      "    weight_decay: 0\n",
      ")............\n",
      "Epoch: 1\n",
      "Train set results : loss = 0.0024614520370960236 , accuracy = 13.09999942779541\n",
      "Test set results : loss = 0.024529753252863884 , accuracy = 16.0\n",
      "Epoch: 2\n"
     ]
    },
    {
     "name": "stderr",
     "output_type": "stream",
     "text": [
      "/tmp/ipykernel_58727/2050569948.py:6: UserWarning: volatile was removed and now has no effect. Use `with torch.no_grad():` instead.\n",
      "  data = Variable(train_data, volatile=True)\n",
      "/tmp/ipykernel_58727/621324685.py:7: UserWarning: volatile was removed and now has no effect. Use `with torch.no_grad():` instead.\n",
      "  data =  Variable(test_data, volatile=True)\n"
     ]
    },
    {
     "name": "stdout",
     "output_type": "stream",
     "text": [
      "Train set results : loss = 0.0024550054222345352 , accuracy = 13.199999809265137\n",
      "Test set results : loss = 0.024467313662171364 , accuracy = 16.0\n",
      "Epoch: 3\n",
      "Train set results : loss = 0.00244875974021852 , accuracy = 13.300000190734863\n",
      "Test set results : loss = 0.024406515061855316 , accuracy = 16.0\n",
      "Epoch: 4\n",
      "Train set results : loss = 0.002442702418193221 , accuracy = 13.199999809265137\n",
      "Test set results : loss = 0.024347160011529922 , accuracy = 16.0\n",
      "Epoch: 5\n",
      "Train set results : loss = 0.0024368080776184797 , accuracy = 13.09999942779541\n",
      "Test set results : loss = 0.0242893286049366 , accuracy = 16.0\n",
      "Epoch: 6\n",
      "Train set results : loss = 0.0024310918524861336 , accuracy = 13.40000057220459\n",
      "Test set results : loss = 0.024232948198914528 , accuracy = 17.0\n",
      "Epoch: 7\n",
      "Train set results : loss = 0.0024255404714494944 , accuracy = 13.799999237060547\n",
      "Test set results : loss = 0.02417813241481781 , accuracy = 17.0\n",
      "Epoch: 8\n",
      "Train set results : loss = 0.0024201488122344017 , accuracy = 13.799999237060547\n",
      "Test set results : loss = 0.024125073105096817 , accuracy = 17.0\n",
      "Epoch: 9\n",
      "Train set results : loss = 0.0024149164091795683 , accuracy = 13.899999618530273\n",
      "Test set results : loss = 0.02407357469201088 , accuracy = 18.0\n",
      "Epoch: 10\n",
      "Train set results : loss = 0.002409853506833315 , accuracy = 14.0\n",
      "Test set results : loss = 0.024023523554205894 , accuracy = 19.0\n",
      "Epoch: 11\n",
      "Train set results : loss = 0.0024049265775829554 , accuracy = 14.200000762939453\n",
      "Test set results : loss = 0.023974910378456116 , accuracy = 19.0\n",
      "Epoch: 12\n",
      "Train set results : loss = 0.0024001216515898705 , accuracy = 14.30000114440918\n",
      "Test set results : loss = 0.023927342146635056 , accuracy = 19.0\n",
      "Epoch: 13\n",
      "Train set results : loss = 0.002395427552983165 , accuracy = 14.399999618530273\n",
      "Test set results : loss = 0.023881182074546814 , accuracy = 19.0\n",
      "Epoch: 14\n",
      "Train set results : loss = 0.0023908528964966536 , accuracy = 14.5\n",
      "Test set results : loss = 0.02383587881922722 , accuracy = 19.0\n",
      "Epoch: 15\n",
      "Train set results : loss = 0.0023863855749368668 , accuracy = 14.59999942779541\n",
      "Test set results : loss = 0.023791514337062836 , accuracy = 19.0\n",
      "Training in process for SGD (\n",
      "Parameter Group 0\n",
      "    dampening: 0\n",
      "    lr: 0.01\n",
      "    momentum: 0.9\n",
      "    nesterov: False\n",
      "    weight_decay: 0\n",
      ")............\n",
      "Epoch: 1\n",
      "Train set results : loss = 0.002345257205888629 , accuracy = 15.700000762939453\n",
      "Test set results : loss = 0.023378757759928703 , accuracy = 21.0\n",
      "Epoch: 2\n",
      "Train set results : loss = 0.0022830823436379433 , accuracy = 16.899999618530273\n",
      "Test set results : loss = 0.02277550660073757 , accuracy = 20.0\n",
      "Epoch: 3\n",
      "Train set results : loss = 0.0022199915256351233 , accuracy = 21.19999885559082\n",
      "Test set results : loss = 0.02218899503350258 , accuracy = 18.0\n",
      "Epoch: 4\n",
      "Train set results : loss = 0.0021664260420948267 , accuracy = 26.0\n",
      "Test set results : loss = 0.02166816033422947 , accuracy = 22.0\n",
      "Epoch: 5\n",
      "Train set results : loss = 0.0021208813413977623 , accuracy = 29.100000381469727\n",
      "Test set results : loss = 0.021238457411527634 , accuracy = 23.0\n",
      "Epoch: 6\n",
      "Train set results : loss = 0.0020768526010215282 , accuracy = 31.299999237060547\n",
      "Test set results : loss = 0.02084183692932129 , accuracy = 29.0\n",
      "Epoch: 7\n",
      "Train set results : loss = 0.002027439419180155 , accuracy = 34.29999923706055\n",
      "Test set results : loss = 0.020412836223840714 , accuracy = 29.0\n",
      "Epoch: 8\n",
      "Train set results : loss = 0.0019681111443787813 , accuracy = 37.0\n",
      "Test set results : loss = 0.019894180819392204 , accuracy = 36.0\n",
      "Epoch: 9\n",
      "Train set results : loss = 0.0018966775387525558 , accuracy = 42.099998474121094\n",
      "Test set results : loss = 0.01926935464143753 , accuracy = 42.0\n",
      "Epoch: 10\n",
      "Train set results : loss = 0.0018158345483243465 , accuracy = 46.20000076293945\n",
      "Test set results : loss = 0.01854517310857773 , accuracy = 42.0\n",
      "Epoch: 11\n",
      "Train set results : loss = 0.0017280197935178876 , accuracy = 50.599998474121094\n",
      "Test set results : loss = 0.0177252646535635 , accuracy = 42.0\n",
      "Epoch: 12\n",
      "Train set results : loss = 0.001635085791349411 , accuracy = 54.10000228881836\n",
      "Test set results : loss = 0.016868334263563156 , accuracy = 42.0\n",
      "Epoch: 13\n",
      "Train set results : loss = 0.0015355652431026101 , accuracy = 56.69999694824219\n",
      "Test set results : loss = 0.015984676778316498 , accuracy = 42.0\n",
      "Epoch: 14\n",
      "Train set results : loss = 0.0014275938738137484 , accuracy = 59.60000228881836\n",
      "Test set results : loss = 0.015074130147695541 , accuracy = 47.0\n",
      "Epoch: 15\n",
      "Train set results : loss = 0.0013134363107383251 , accuracy = 62.5\n",
      "Test set results : loss = 0.014138238504529 , accuracy = 50.0\n",
      "Training in process for RMSprop (\n",
      "Parameter Group 0\n",
      "    alpha: 0.9\n",
      "    centered: False\n",
      "    eps: 1e-08\n",
      "    lr: 0.001\n",
      "    momentum: 0\n",
      "    weight_decay: 0\n",
      ")............\n",
      "Epoch: 1\n",
      "Train set results : loss = 0.0013383034383878112 , accuracy = 50.900001525878906\n",
      "Test set results : loss = 0.014930610544979572 , accuracy = 39.0\n",
      "Epoch: 2\n",
      "Train set results : loss = 0.0013652272755280137 , accuracy = 64.70000457763672\n",
      "Test set results : loss = 0.014985356479883194 , accuracy = 57.0\n",
      "Epoch: 3\n",
      "Train set results : loss = 0.0011171549558639526 , accuracy = 64.0\n",
      "Test set results : loss = 0.012139526195824146 , accuracy = 58.0\n",
      "Epoch: 4\n",
      "Train set results : loss = 0.0011045566061511636 , accuracy = 63.30000305175781\n",
      "Test set results : loss = 0.012761843390762806 , accuracy = 61.0\n",
      "Epoch: 5\n",
      "Train set results : loss = 0.0012277858331799507 , accuracy = 58.099998474121094\n",
      "Test set results : loss = 0.014304645359516144 , accuracy = 56.0\n",
      "Epoch: 6\n",
      "Train set results : loss = 0.0011207674397155643 , accuracy = 64.0999984741211\n",
      "Test set results : loss = 0.012465684674680233 , accuracy = 56.0\n",
      "Epoch: 7\n",
      "Train set results : loss = 0.0008837005589157343 , accuracy = 75.70000457763672\n",
      "Test set results : loss = 0.010682526975870132 , accuracy = 69.0\n",
      "Epoch: 8\n",
      "Train set results : loss = 0.0007989057339727879 , accuracy = 78.89999389648438\n",
      "Test set results : loss = 0.009324127808213234 , accuracy = 69.0\n",
      "Epoch: 9\n",
      "Train set results : loss = 0.0007540276274085045 , accuracy = 80.19999694824219\n",
      "Test set results : loss = 0.009239066392183304 , accuracy = 73.0\n",
      "Epoch: 10\n",
      "Train set results : loss = 0.000719686911907047 , accuracy = 81.19999694824219\n",
      "Test set results : loss = 0.008619618602097034 , accuracy = 76.0\n",
      "Epoch: 11\n",
      "Train set results : loss = 0.000692961155436933 , accuracy = 82.4000015258789\n",
      "Test set results : loss = 0.008859166875481606 , accuracy = 72.0\n",
      "Epoch: 12\n",
      "Train set results : loss = 0.0006748178275302052 , accuracy = 81.69999694824219\n",
      "Test set results : loss = 0.008021296001970768 , accuracy = 73.0\n",
      "Epoch: 13\n",
      "Train set results : loss = 0.0006859111599624157 , accuracy = 80.4000015258789\n",
      "Test set results : loss = 0.009275422431528568 , accuracy = 72.0\n",
      "Epoch: 14\n",
      "Train set results : loss = 0.0006755138747394085 , accuracy = 80.4000015258789\n",
      "Test set results : loss = 0.00775750819593668 , accuracy = 73.0\n",
      "Epoch: 15\n",
      "Train set results : loss = 0.0007108059362508357 , accuracy = 78.30000305175781\n",
      "Test set results : loss = 0.009968739002943039 , accuracy = 70.0\n"
     ]
    }
   ],
   "source": [
    "n_epochs = 15 #initialize the number of epochs\n",
    "rows, cols = (3, n_epochs)\n",
    "\n",
    "train_accu = np.zeros((rows, cols))\n",
    "train_loss = np.zeros((rows, cols))\n",
    "test_acc = np.zeros((rows, cols))\n",
    "test_loss = np.zeros((rows, cols))\n",
    "\n",
    "bt_layer1=[]\n",
    "bt_layer15=[]\n",
    "\n",
    "#perform taining for all the otimizers and store the results \n",
    "for i in range(3):  \n",
    "    print(f\"Training in process for {opt_list[i]}............\")\n",
    "    for epoch in range(1,  n_epochs+ 1):\n",
    "        print('Epoch: {0}'.format(epoch))\n",
    "        train(epoch,opt_list[i])\n",
    "        a,b=train_accuracy()\n",
    "        c,d,bt_layer=test(epoch)\n",
    "        train_accu[i][epoch-1]=b\n",
    "        test_acc[i][epoch-1]=(d)\n",
    "        train_loss[i][epoch-1]=(a)\n",
    "        test_loss[i][epoch-1]=(c)\n",
    "        if epoch==1:\n",
    "            bt_layer1=bt_layer\n",
    "        if epoch==15:\n",
    "            bt_layer15=bt_layer"
   ]
  },
  {
   "cell_type": "markdown",
   "id": "05414e16",
   "metadata": {},
   "source": [
    "## Question3"
   ]
  },
  {
   "cell_type": "markdown",
   "id": "911c6a63",
   "metadata": {},
   "source": [
    "### 3(a)"
   ]
  },
  {
   "cell_type": "markdown",
   "id": "bf74be8f",
   "metadata": {},
   "source": [
    "#### Vanilla SGD"
   ]
  },
  {
   "cell_type": "markdown",
   "id": "1322d3a6",
   "metadata": {},
   "source": [
    "Train accuracy and test accuracy plot"
   ]
  },
  {
   "cell_type": "code",
   "execution_count": 15,
   "id": "e95a10fb",
   "metadata": {},
   "outputs": [
    {
     "data": {
      "image/png": "[encoded data removed]",
      "text/plain": [
       "<Figure size 432x288 with 1 Axes>"
      ]
     },
     "metadata": {
      "needs_background": "light"
     },
     "output_type": "display_data"
    }
   ],
   "source": [
    "plt.plot(train_accu[0],label=\"train accuracy\")\n",
    "plt.plot(test_acc[0],label=\"test accuracy\")\n",
    "leg = plt.legend(loc='lower right')\n",
    "plt.show()"
   ]
  },
  {
   "cell_type": "markdown",
   "id": "d7a8ca7a",
   "metadata": {},
   "source": [
    "Train loss and test loss plot"
   ]
  },
  {
   "cell_type": "code",
   "execution_count": 16,
   "id": "c499818d",
   "metadata": {},
   "outputs": [
    {
     "data": {
      "image/png": "[encoded data removed]",
      "text/plain": [
       "<Figure size 432x288 with 1 Axes>"
      ]
     },
     "metadata": {
      "needs_background": "light"
     },
     "output_type": "display_data"
    }
   ],
   "source": [
    "plt.plot(train_loss[0],label=\"train error\")\n",
    "plt.plot(test_loss[0],label=\"test error\")\n",
    "leg = plt.legend(loc='upper left')\n",
    "plt.show()"
   ]
  },
  {
   "cell_type": "markdown",
   "id": "f19841d3",
   "metadata": {},
   "source": [
    "#### Momentum SGD"
   ]
  },
  {
   "cell_type": "code",
   "execution_count": 17,
   "id": "eb62f5e4",
   "metadata": {},
   "outputs": [
    {
     "data": {
      "image/png": "[encoded data removed]",
      "text/plain": [
       "<Figure size 432x288 with 1 Axes>"
      ]
     },
     "metadata": {
      "needs_background": "light"
     },
     "output_type": "display_data"
    }
   ],
   "source": [
    "plt.plot(train_accu[1],label=\"train accuracy\")\n",
    "plt.plot(test_acc[1],label=\"test accuracy\")\n",
    "leg = plt.legend(loc='lower right')\n",
    "plt.show()"
   ]
  },
  {
   "cell_type": "code",
   "execution_count": 18,
   "id": "ff570c9e",
   "metadata": {},
   "outputs": [
    {
     "data": {
      "image/png": "[encoded data removed]",
      "text/plain": [
       "<Figure size 432x288 with 1 Axes>"
      ]
     },
     "metadata": {
      "needs_background": "light"
     },
     "output_type": "display_data"
    }
   ],
   "source": [
    "plt.plot(train_loss[1],label=\"train error\")\n",
    "plt.plot(test_loss[1],label=\"test error\")\n",
    "leg = plt.legend(loc='upper left')\n",
    "plt.show()"
   ]
  },
  {
   "cell_type": "markdown",
   "id": "690f35d6",
   "metadata": {},
   "source": [
    "#### RMSProp SGD"
   ]
  },
  {
   "cell_type": "code",
   "execution_count": 19,
   "id": "c5e429b9",
   "metadata": {},
   "outputs": [
    {
     "data": {
      "image/png": "[encoded data removed]",
      "text/plain": [
       "<Figure size 432x288 with 1 Axes>"
      ]
     },
     "metadata": {
      "needs_background": "light"
     },
     "output_type": "display_data"
    }
   ],
   "source": [
    "plt.plot(train_accu[2],label=\"train accuracy\")\n",
    "plt.plot(test_acc[2],label=\"test accuracy\")\n",
    "leg = plt.legend(loc='lower right')\n",
    "plt.show()"
   ]
  },
  {
   "cell_type": "code",
   "execution_count": 20,
   "id": "bbbaed73",
   "metadata": {},
   "outputs": [
    {
     "data": {
      "image/png": "[encoded data removed]",
      "text/plain": [
       "<Figure size 432x288 with 1 Axes>"
      ]
     },
     "metadata": {
      "needs_background": "light"
     },
     "output_type": "display_data"
    }
   ],
   "source": [
    "plt.plot(train_loss[2],label=\"train error\")\n",
    "plt.plot(test_loss[2],label=\"test error\")\n",
    "leg = plt.legend(loc='upper left')\n",
    "plt.show()"
   ]
  },
  {
   "cell_type": "markdown",
   "id": "9741363d",
   "metadata": {},
   "source": [
    "### 3(c)"
   ]
  },
  {
   "cell_type": "markdown",
   "id": "14912f23",
   "metadata": {},
   "source": [
    "Accuracy by Vanilla SGD"
   ]
  },
  {
   "cell_type": "code",
   "execution_count": 21,
   "id": "ce892045",
   "metadata": {},
   "outputs": [
    {
     "name": "stdout",
     "output_type": "stream",
     "text": [
      "test accuracy - 19.0 % \n"
     ]
    }
   ],
   "source": [
    "print(f\"test accuracy - {test_acc[0][14]} % \")"
   ]
  },
  {
   "cell_type": "markdown",
   "id": "5654bc40",
   "metadata": {},
   "source": [
    "Accuracy by Momentum "
   ]
  },
  {
   "cell_type": "code",
   "execution_count": 22,
   "id": "06b294c5",
   "metadata": {},
   "outputs": [
    {
     "name": "stdout",
     "output_type": "stream",
     "text": [
      "test accuracy - 50.0 % \n"
     ]
    }
   ],
   "source": [
    "print(f\"test accuracy - {test_acc[1][14]} % \")"
   ]
  },
  {
   "cell_type": "markdown",
   "id": "7b8d46fd",
   "metadata": {},
   "source": [
    "Accuracy by RMSProp"
   ]
  },
  {
   "cell_type": "code",
   "execution_count": 23,
   "id": "cb65f0f0",
   "metadata": {},
   "outputs": [
    {
     "name": "stdout",
     "output_type": "stream",
     "text": [
      "test accuracy - 70.0 % \n"
     ]
    }
   ],
   "source": [
    "print(f\"test accuracy - {test_acc[2][14]} % \")"
   ]
  },
  {
   "cell_type": "markdown",
   "id": "7aa9b59e",
   "metadata": {},
   "source": [
    "## Question4"
   ]
  },
  {
   "cell_type": "code",
   "execution_count": 24,
   "id": "6e39a642",
   "metadata": {},
   "outputs": [],
   "source": [
    "from sklearn.manifold import TSNE\n",
    "from matplotlib.colors import ListedColormap\n",
    "\n",
    "keys = [0,1,2,3,4,5,6,7,8,9]\n",
    "colour_list = ['blue', 'green', 'red', 'black', 'cyan', 'magenta', 'yellow','0.75', '#eebbbf', '#daddad', ]\n",
    "def plot_tsne(bt_layer):\n",
    "    tsne = TSNE(n_components=2,perplexity=5).fit_transform(bt_layer)\n",
    "    tx = tsne[:, 0]\n",
    "    ty = tsne[:, 1]\n",
    "    \n",
    "    colours= ListedColormap(colour_list)\n",
    "    scatter=plt.scatter(tx,ty,marker='o',c=test_labels, cmap=colours)\n",
    "    plt.legend(handles=scatter.legend_elements()[0], labels=keys)\n",
    "    plt.show()"
   ]
  },
  {
   "cell_type": "code",
   "execution_count": 25,
   "id": "41af7d7e",
   "metadata": {},
   "outputs": [
    {
     "name": "stderr",
     "output_type": "stream",
     "text": [
      "/home/sid/anaconda3/envs/pytorch/lib/python3.9/site-packages/sklearn/manifold/_t_sne.py:780: FutureWarning: The default initialization in TSNE will change from 'random' to 'pca' in 1.2.\n",
      "  warnings.warn(\n",
      "/home/sid/anaconda3/envs/pytorch/lib/python3.9/site-packages/sklearn/manifold/_t_sne.py:790: FutureWarning: The default learning rate in TSNE will change from 200.0 to 'auto' in 1.2.\n",
      "  warnings.warn(\n"
     ]
    },
    {
     "data": {
      "image/png": "[encoded data removed]",
      "text/plain": [
       "<Figure size 432x288 with 1 Axes>"
      ]
     },
     "metadata": {
      "needs_background": "light"
     },
     "output_type": "display_data"
    }
   ],
   "source": [
    "plot_tsne(bt_layer1)"
   ]
  },
  {
   "cell_type": "code",
   "execution_count": 26,
   "id": "a0dcbf92",
   "metadata": {},
   "outputs": [
    {
     "name": "stderr",
     "output_type": "stream",
     "text": [
      "/home/sid/anaconda3/envs/pytorch/lib/python3.9/site-packages/sklearn/manifold/_t_sne.py:780: FutureWarning: The default initialization in TSNE will change from 'random' to 'pca' in 1.2.\n",
      "  warnings.warn(\n",
      "/home/sid/anaconda3/envs/pytorch/lib/python3.9/site-packages/sklearn/manifold/_t_sne.py:790: FutureWarning: The default learning rate in TSNE will change from 200.0 to 'auto' in 1.2.\n",
      "  warnings.warn(\n"
     ]
    },
    {
     "data": {
      "image/png": "[encoded data removed]",
      "text/plain": [
       "<Figure size 432x288 with 1 Axes>"
      ]
     },
     "metadata": {
      "needs_background": "light"
     },
     "output_type": "display_data"
    }
   ],
   "source": [
    "plot_tsne(bt_layer15)"
   ]
  },
  {
   "cell_type": "markdown",
   "id": "057be11b",
   "metadata": {},
   "source": [
    "## Question 5\n"
   ]
  },
  {
   "cell_type": "markdown",
   "id": "2cf479d8",
   "metadata": {},
   "source": [
    "Comaprision of the results from the previous assignemnt - The accuracy of the CNN with the vanilla SGD optimizer of the previous assignment is almost same as the ppytorch implementation written in this assignment. But the optimizer momentum has much improvement in the pytorxh implementation . There is a increace in the accuracy of around 30% and reduction in loss where as with the RMSProp optimizer, the accuracy has been boosted above 50% comapred to the one that was implemented in the previous assignemnt. "
   ]
  },
  {
   "cell_type": "markdown",
   "id": "98b3664b",
   "metadata": {},
   "source": [
    "## Question 6"
   ]
  },
  {
   "cell_type": "code",
   "execution_count": 27,
   "id": "26411973",
   "metadata": {},
   "outputs": [],
   "source": [
    "#New CNN framework with dropout inclusive\n",
    "class Net(nn.Module):\n",
    "    def __init__(self):\n",
    "        super(Net, self).__init__()\n",
    "        self.conv1 = nn.Conv2d(1, 10, kernel_size=5) \n",
    "        self.conv2 = nn.Conv2d(10, 20, kernel_size=5)\n",
    "        self.conv2_drop = nn.Dropout2d(p=p)\n",
    "        self.fc1 = nn.Linear(320, 50)\n",
    "        self.fc2 = nn.Linear(50, 10)\n",
    "\n",
    "    def forward(self, x):\n",
    "        x = F.relu(F.max_pool2d(self.conv1(x), 2))\n",
    "        x = F.relu(F.max_pool2d(self.conv2_drop(self.conv2(x)), 2))\n",
    "        x = x.view(-1, 320)\n",
    "        x = F.relu(self.fc1(x))\n",
    "        x = F.dropout(x, p=p, training=self.training)\n",
    "        x = self.fc2(x)\n",
    "        return F.log_softmax(x, dim=1)"
   ]
  },
  {
   "cell_type": "markdown",
   "id": "8f52858e",
   "metadata": {},
   "source": [
    "### droupout rate 0.2"
   ]
  },
  {
   "cell_type": "code",
   "execution_count": 28,
   "id": "0a7d2be3",
   "metadata": {},
   "outputs": [
    {
     "name": "stdout",
     "output_type": "stream",
     "text": [
      "Initializing weights for layer: Conv2d(1, 10, kernel_size=(5, 5), stride=(1, 1))\n",
      "Initializing weights for layer: Conv2d(10, 20, kernel_size=(5, 5), stride=(1, 1))\n",
      "Initializing weights for layer: Linear(in_features=320, out_features=50, bias=True)\n",
      "Initializing weights for layer: Linear(in_features=50, out_features=10, bias=True)\n"
     ]
    },
    {
     "name": "stderr",
     "output_type": "stream",
     "text": [
      "/tmp/ipykernel_58727/3934088816.py:5: UserWarning: nn.init.xavier_uniform is now deprecated in favor of nn.init.xavier_uniform_.\n",
      "  xavier_uniform(n.weight)\n"
     ]
    }
   ],
   "source": [
    "p = 0.20\n",
    "model = Net()\n",
    "model.apply(initialize_W)\n",
    "\n",
    "optimizer1 = optim.SGD(model.parameters(), lr=0.001)\n",
    "optimizer2 = optim.SGD(model.parameters(), lr=0.01, momentum=0.9)\n",
    "optimizer3 = optim.RMSprop(model.parameters(),lr=0.001,alpha=0.9)\n",
    "\n",
    "opt_list=[optimizer1,optimizer2,optimizer3]"
   ]
  },
  {
   "cell_type": "code",
   "execution_count": 29,
   "id": "50acbb9e",
   "metadata": {},
   "outputs": [
    {
     "name": "stdout",
     "output_type": "stream",
     "text": [
      "Training in process for SGD (\n",
      "Parameter Group 0\n",
      "    dampening: 0\n",
      "    lr: 0.001\n",
      "    momentum: 0\n",
      "    nesterov: False\n",
      "    weight_decay: 0\n",
      ")............\n",
      "Epoch: 1\n",
      "Train set results : loss = 0.002465511206537485 , accuracy = 15.09999942779541\n",
      "Test set results : loss = 0.024811292067170143 , accuracy = 13.0\n",
      "Epoch: 2\n"
     ]
    },
    {
     "name": "stderr",
     "output_type": "stream",
     "text": [
      "/tmp/ipykernel_58727/2050569948.py:6: UserWarning: volatile was removed and now has no effect. Use `with torch.no_grad():` instead.\n",
      "  data = Variable(train_data, volatile=True)\n",
      "/tmp/ipykernel_58727/621324685.py:7: UserWarning: volatile was removed and now has no effect. Use `with torch.no_grad():` instead.\n",
      "  data =  Variable(test_data, volatile=True)\n"
     ]
    },
    {
     "name": "stdout",
     "output_type": "stream",
     "text": [
      "Train set results : loss = 0.00246006203815341 , accuracy = 15.299999237060547\n",
      "Test set results : loss = 0.024757325649261475 , accuracy = 13.0\n",
      "Epoch: 3\n",
      "Train set results : loss = 0.0024550778325647116 , accuracy = 15.299999237060547\n",
      "Test set results : loss = 0.024706723168492317 , accuracy = 14.0\n",
      "Epoch: 4\n",
      "Train set results : loss = 0.0024503315798938274 , accuracy = 15.399999618530273\n",
      "Test set results : loss = 0.024659443646669388 , accuracy = 14.0\n",
      "Epoch: 5\n",
      "Train set results : loss = 0.002445848658680916 , accuracy = 15.399999618530273\n",
      "Test set results : loss = 0.024614715948700905 , accuracy = 15.0\n",
      "Epoch: 6\n",
      "Train set results : loss = 0.002441348973661661 , accuracy = 15.299999237060547\n",
      "Test set results : loss = 0.02456923946738243 , accuracy = 14.0\n",
      "Epoch: 7\n",
      "Train set results : loss = 0.0024371747858822346 , accuracy = 15.399999618530273\n",
      "Test set results : loss = 0.02452738769352436 , accuracy = 15.0\n",
      "Epoch: 8\n",
      "Train set results : loss = 0.0024331272579729557 , accuracy = 15.5\n",
      "Test set results : loss = 0.024486474692821503 , accuracy = 15.0\n",
      "Epoch: 9\n",
      "Train set results : loss = 0.0024291828740388155 , accuracy = 15.5\n",
      "Test set results : loss = 0.024446817114949226 , accuracy = 15.0\n",
      "Epoch: 10\n",
      "Train set results : loss = 0.0024252685252577066 , accuracy = 15.399999618530273\n",
      "Test set results : loss = 0.024407917633652687 , accuracy = 15.0\n",
      "Epoch: 11\n",
      "Train set results : loss = 0.00242150598205626 , accuracy = 15.399999618530273\n",
      "Test set results : loss = 0.024370193481445312 , accuracy = 15.0\n",
      "Epoch: 12\n",
      "Train set results : loss = 0.0024180018808692694 , accuracy = 15.600000381469727\n",
      "Test set results : loss = 0.024335717782378197 , accuracy = 15.0\n",
      "Epoch: 13\n",
      "Train set results : loss = 0.002414567628875375 , accuracy = 15.600000381469727\n",
      "Test set results : loss = 0.024301590397953987 , accuracy = 15.0\n",
      "Epoch: 14\n",
      "Train set results : loss = 0.0024110309313982725 , accuracy = 15.700000762939453\n",
      "Test set results : loss = 0.024266399443149567 , accuracy = 15.0\n",
      "Epoch: 15\n",
      "Train set results : loss = 0.0024078122805804014 , accuracy = 15.700000762939453\n",
      "Test set results : loss = 0.024234523996710777 , accuracy = 16.0\n",
      "Training in process for SGD (\n",
      "Parameter Group 0\n",
      "    dampening: 0\n",
      "    lr: 0.01\n",
      "    momentum: 0.9\n",
      "    nesterov: False\n",
      "    weight_decay: 0\n",
      ")............\n",
      "Epoch: 1\n",
      "Train set results : loss = 0.0023790455888956785 , accuracy = 16.799999237060547\n",
      "Test set results : loss = 0.023945720866322517 , accuracy = 18.0\n",
      "Epoch: 2\n",
      "Train set results : loss = 0.0023368769325315952 , accuracy = 18.19999885559082\n",
      "Test set results : loss = 0.02350558713078499 , accuracy = 19.0\n",
      "Epoch: 3\n",
      "Train set results : loss = 0.0022964859381318092 , accuracy = 19.400001525878906\n",
      "Test set results : loss = 0.02306835725903511 , accuracy = 21.0\n",
      "Epoch: 4\n",
      "Train set results : loss = 0.002264993265271187 , accuracy = 20.200000762939453\n",
      "Test set results : loss = 0.022710058838129044 , accuracy = 21.0\n",
      "Epoch: 5\n",
      "Train set results : loss = 0.0022423136979341507 , accuracy = 20.0\n",
      "Test set results : loss = 0.022452209144830704 , accuracy = 21.0\n",
      "Epoch: 6\n",
      "Train set results : loss = 0.002223869552835822 , accuracy = 21.600000381469727\n",
      "Test set results : loss = 0.022275952622294426 , accuracy = 21.0\n",
      "Epoch: 7\n",
      "Train set results : loss = 0.0022077499888837337 , accuracy = 23.19999885559082\n",
      "Test set results : loss = 0.022134697064757347 , accuracy = 24.0\n",
      "Epoch: 8\n",
      "Train set results : loss = 0.0021915901452302933 , accuracy = 25.299999237060547\n",
      "Test set results : loss = 0.021976172924041748 , accuracy = 26.0\n",
      "Epoch: 9\n",
      "Train set results : loss = 0.0021745937410742044 , accuracy = 28.099998474121094\n",
      "Test set results : loss = 0.02180315926671028 , accuracy = 27.0\n",
      "Epoch: 10\n",
      "Train set results : loss = 0.0021577132865786552 , accuracy = 31.400001525878906\n",
      "Test set results : loss = 0.021619655191898346 , accuracy = 30.0\n",
      "Epoch: 11\n",
      "Train set results : loss = 0.0021387797314673662 , accuracy = 35.10000228881836\n",
      "Test set results : loss = 0.02142432890832424 , accuracy = 32.0\n",
      "Epoch: 12\n",
      "Train set results : loss = 0.002116953721269965 , accuracy = 38.10000228881836\n",
      "Test set results : loss = 0.02120061405003071 , accuracy = 35.0\n",
      "Epoch: 13\n",
      "Train set results : loss = 0.0020916806533932686 , accuracy = 40.29999923706055\n",
      "Test set results : loss = 0.020945245400071144 , accuracy = 40.0\n",
      "Epoch: 14\n",
      "Train set results : loss = 0.002061533974483609 , accuracy = 43.0\n",
      "Test set results : loss = 0.02066029980778694 , accuracy = 46.0\n",
      "Epoch: 15\n",
      "Train set results : loss = 0.0020254170522093773 , accuracy = 46.599998474121094\n",
      "Test set results : loss = 0.020309684798121452 , accuracy = 50.0\n",
      "Training in process for RMSprop (\n",
      "Parameter Group 0\n",
      "    alpha: 0.9\n",
      "    centered: False\n",
      "    eps: 1e-08\n",
      "    lr: 0.001\n",
      "    momentum: 0\n",
      "    weight_decay: 0\n",
      ")............\n",
      "Epoch: 1\n",
      "Train set results : loss = 0.001769463182426989 , accuracy = 66.0\n",
      "Test set results : loss = 0.017904873937368393 , accuracy = 65.0\n",
      "Epoch: 2\n",
      "Train set results : loss = 0.0015652598813176155 , accuracy = 67.0\n",
      "Test set results : loss = 0.016066372394561768 , accuracy = 63.0\n",
      "Epoch: 3\n",
      "Train set results : loss = 0.0014704393688589334 , accuracy = 58.70000076293945\n",
      "Test set results : loss = 0.01488613709807396 , accuracy = 60.0\n",
      "Epoch: 4\n",
      "Train set results : loss = 0.001343431998975575 , accuracy = 66.0\n",
      "Test set results : loss = 0.014242341741919518 , accuracy = 62.0\n",
      "Epoch: 5\n",
      "Train set results : loss = 0.0011996529065072536 , accuracy = 74.0999984741211\n",
      "Test set results : loss = 0.012287726625800133 , accuracy = 74.0\n",
      "Epoch: 6\n",
      "Train set results : loss = 0.0010494401212781668 , accuracy = 76.5999984741211\n",
      "Test set results : loss = 0.011163667775690556 , accuracy = 72.0\n",
      "Epoch: 7\n",
      "Train set results : loss = 0.0009581100312061608 , accuracy = 80.19999694824219\n",
      "Test set results : loss = 0.010274485684931278 , accuracy = 74.0\n",
      "Epoch: 8\n",
      "Train set results : loss = 0.0008810235885903239 , accuracy = 78.0999984741211\n",
      "Test set results : loss = 0.009694721549749374 , accuracy = 72.0\n",
      "Epoch: 9\n",
      "Train set results : loss = 0.000849154603201896 , accuracy = 77.9000015258789\n",
      "Test set results : loss = 0.009347128681838512 , accuracy = 72.0\n",
      "Epoch: 10\n",
      "Train set results : loss = 0.0007728889468125999 , accuracy = 80.5999984741211\n",
      "Test set results : loss = 0.008768806234002113 , accuracy = 73.0\n",
      "Epoch: 11\n",
      "Train set results : loss = 0.0007386827492155135 , accuracy = 80.69999694824219\n",
      "Test set results : loss = 0.008371411822736263 , accuracy = 75.0\n",
      "Epoch: 12\n",
      "Train set results : loss = 0.0006672224844805896 , accuracy = 87.0\n",
      "Test set results : loss = 0.007706320378929377 , accuracy = 77.0\n",
      "Epoch: 13\n",
      "Train set results : loss = 0.0006286216666921973 , accuracy = 84.5\n",
      "Test set results : loss = 0.0074233924970030785 , accuracy = 80.0\n",
      "Epoch: 14\n",
      "Train set results : loss = 0.0005810334114357829 , accuracy = 87.80000305175781\n",
      "Test set results : loss = 0.006966042332351208 , accuracy = 78.0\n",
      "Epoch: 15\n",
      "Train set results : loss = 0.0005411648890003562 , accuracy = 88.4000015258789\n",
      "Test set results : loss = 0.006563004106283188 , accuracy = 80.0\n"
     ]
    }
   ],
   "source": [
    "n_epochs = 15\n",
    "rows, cols = (3, n_epochs)\n",
    "\n",
    "train_accu = np.zeros((rows, cols))\n",
    "train_loss = np.zeros((rows, cols))\n",
    "test_acc = np.zeros((rows, cols))\n",
    "test_loss = np.zeros((rows, cols))\n",
    "\n",
    "for i in range(3):  \n",
    "    print(f\"Training in process for {opt_list[i]}............\")\n",
    "    for epoch in range(1,  n_epochs+ 1):\n",
    "        print('Epoch: {0}'.format(epoch))\n",
    "        train(epoch,opt_list[i])\n",
    "        a,b=train_accuracy()\n",
    "        c,d,bt_layer=test(epoch)\n",
    "        train_accu[i][epoch-1]=b\n",
    "        test_acc[i][epoch-1]=(d)\n",
    "        train_loss[i][epoch-1]=(a)\n",
    "        test_loss[i][epoch-1]=(c)"
   ]
  },
  {
   "cell_type": "code",
   "execution_count": 30,
   "id": "0f2cd7fa",
   "metadata": {},
   "outputs": [
    {
     "name": "stdout",
     "output_type": "stream",
     "text": [
      "test accuracy: Vanilla SGd - 16.0 % \n",
      "test accuracy: Momentum SGD - 50.0 % \n",
      "test accuracy: RMSProp - 80.0 % \n"
     ]
    }
   ],
   "source": [
    "print(f\"test accuracy: Vanilla SGd - {test_acc[0][14]} % \")\n",
    "print(f\"test accuracy: Momentum SGD - {test_acc[1][14]} % \")\n",
    "print(f\"test accuracy: RMSProp - {test_acc[2][14]} % \")"
   ]
  },
  {
   "cell_type": "markdown",
   "id": "57e0e7b9",
   "metadata": {},
   "source": [
    "### droupout rate 0.5"
   ]
  },
  {
   "cell_type": "code",
   "execution_count": 31,
   "id": "127a907a",
   "metadata": {},
   "outputs": [
    {
     "name": "stdout",
     "output_type": "stream",
     "text": [
      "Initializing weights for layer: Conv2d(1, 10, kernel_size=(5, 5), stride=(1, 1))\n",
      "Initializing weights for layer: Conv2d(10, 20, kernel_size=(5, 5), stride=(1, 1))\n",
      "Initializing weights for layer: Linear(in_features=320, out_features=50, bias=True)\n",
      "Initializing weights for layer: Linear(in_features=50, out_features=10, bias=True)\n"
     ]
    },
    {
     "name": "stderr",
     "output_type": "stream",
     "text": [
      "/tmp/ipykernel_58727/3934088816.py:5: UserWarning: nn.init.xavier_uniform is now deprecated in favor of nn.init.xavier_uniform_.\n",
      "  xavier_uniform(n.weight)\n"
     ]
    }
   ],
   "source": [
    "p = 0.50\n",
    "model = Net()\n",
    "model.apply(initialize_W)\n",
    "\n",
    "optimizer1 = optim.SGD(model.parameters(), lr=0.001)\n",
    "optimizer2 = optim.SGD(model.parameters(), lr=0.01, momentum=0.9)\n",
    "optimizer3 = optim.RMSprop(model.parameters(),lr=0.001,alpha=0.9)\n",
    "\n",
    "opt_list=[optimizer1,optimizer2,optimizer3]"
   ]
  },
  {
   "cell_type": "code",
   "execution_count": 32,
   "id": "988e5210",
   "metadata": {},
   "outputs": [
    {
     "name": "stdout",
     "output_type": "stream",
     "text": [
      "Training in process for SGD (\n",
      "Parameter Group 0\n",
      "    dampening: 0\n",
      "    lr: 0.001\n",
      "    momentum: 0\n",
      "    nesterov: False\n",
      "    weight_decay: 0\n",
      ")............\n",
      "Epoch: 1\n",
      "Train set results : loss = 0.0023865564726293087 , accuracy = 9.199999809265137\n",
      "Test set results : loss = 0.023781204596161842 , accuracy = 9.0\n",
      "Epoch: 2\n"
     ]
    },
    {
     "name": "stderr",
     "output_type": "stream",
     "text": [
      "/tmp/ipykernel_58727/2050569948.py:6: UserWarning: volatile was removed and now has no effect. Use `with torch.no_grad():` instead.\n",
      "  data = Variable(train_data, volatile=True)\n",
      "/tmp/ipykernel_58727/621324685.py:7: UserWarning: volatile was removed and now has no effect. Use `with torch.no_grad():` instead.\n",
      "  data =  Variable(test_data, volatile=True)\n"
     ]
    },
    {
     "name": "stdout",
     "output_type": "stream",
     "text": [
      "Train set results : loss = 0.002383914776146412 , accuracy = 9.199999809265137\n",
      "Test set results : loss = 0.02375505119562149 , accuracy = 9.0\n",
      "Epoch: 3\n",
      "Train set results : loss = 0.0023812823928892612 , accuracy = 9.199999809265137\n",
      "Test set results : loss = 0.023728322237730026 , accuracy = 9.0\n",
      "Epoch: 4\n",
      "Train set results : loss = 0.002378756646066904 , accuracy = 9.199999809265137\n",
      "Test set results : loss = 0.023703590035438538 , accuracy = 9.0\n",
      "Epoch: 5\n",
      "Train set results : loss = 0.0023762218188494444 , accuracy = 9.199999809265137\n",
      "Test set results : loss = 0.023679036647081375 , accuracy = 9.0\n",
      "Epoch: 6\n",
      "Train set results : loss = 0.0023739896714687347 , accuracy = 9.199999809265137\n",
      "Test set results : loss = 0.023657387122511864 , accuracy = 9.0\n",
      "Epoch: 7\n",
      "Train set results : loss = 0.0023717819713056087 , accuracy = 9.09999942779541\n",
      "Test set results : loss = 0.023635728284716606 , accuracy = 9.0\n",
      "Epoch: 8\n",
      "Train set results : loss = 0.0023696590214967728 , accuracy = 9.199999809265137\n",
      "Test set results : loss = 0.023615192621946335 , accuracy = 9.0\n",
      "Epoch: 9\n",
      "Train set results : loss = 0.0023675416596233845 , accuracy = 9.300000190734863\n",
      "Test set results : loss = 0.023594558238983154 , accuracy = 9.0\n",
      "Epoch: 10\n",
      "Train set results : loss = 0.002365636872127652 , accuracy = 9.300000190734863\n",
      "Test set results : loss = 0.0235768873244524 , accuracy = 9.0\n",
      "Epoch: 11\n",
      "Train set results : loss = 0.002363648032769561 , accuracy = 9.300000190734863\n",
      "Test set results : loss = 0.02355826459825039 , accuracy = 9.0\n",
      "Epoch: 12\n",
      "Train set results : loss = 0.002361707156524062 , accuracy = 9.300000190734863\n",
      "Test set results : loss = 0.023540319874882698 , accuracy = 9.0\n",
      "Epoch: 13\n",
      "Train set results : loss = 0.0023598717525601387 , accuracy = 9.300000190734863\n",
      "Test set results : loss = 0.023523680865764618 , accuracy = 9.0\n",
      "Epoch: 14\n",
      "Train set results : loss = 0.00235809781588614 , accuracy = 9.300000190734863\n",
      "Test set results : loss = 0.023507559671998024 , accuracy = 9.0\n",
      "Epoch: 15\n",
      "Train set results : loss = 0.002356401877477765 , accuracy = 9.300000190734863\n",
      "Test set results : loss = 0.023492174223065376 , accuracy = 9.0\n",
      "Training in process for SGD (\n",
      "Parameter Group 0\n",
      "    dampening: 0\n",
      "    lr: 0.01\n",
      "    momentum: 0.9\n",
      "    nesterov: False\n",
      "    weight_decay: 0\n",
      ")............\n",
      "Epoch: 1\n",
      "Train set results : loss = 0.0023406913969665766 , accuracy = 9.09999942779541\n",
      "Test set results : loss = 0.02335076779127121 , accuracy = 9.0\n",
      "Epoch: 2\n",
      "Train set results : loss = 0.0023205415345728397 , accuracy = 9.300000190734863\n",
      "Test set results : loss = 0.02318151481449604 , accuracy = 10.0\n",
      "Epoch: 3\n",
      "Train set results : loss = 0.002303584711626172 , accuracy = 9.600000381469727\n",
      "Test set results : loss = 0.023059800267219543 , accuracy = 12.0\n",
      "Epoch: 4\n",
      "Train set results : loss = 0.0022915895096957684 , accuracy = 10.59999942779541\n",
      "Test set results : loss = 0.022987069562077522 , accuracy = 11.0\n",
      "Epoch: 5\n",
      "Train set results : loss = 0.002283989218994975 , accuracy = 11.300000190734863\n",
      "Test set results : loss = 0.022949950769543648 , accuracy = 10.0\n",
      "Epoch: 6\n",
      "Train set results : loss = 0.0022788383066654205 , accuracy = 13.500000953674316\n",
      "Test set results : loss = 0.02292780950665474 , accuracy = 13.0\n",
      "Epoch: 7\n",
      "Train set results : loss = 0.002275964478030801 , accuracy = 14.399999618530273\n",
      "Test set results : loss = 0.022922812029719353 , accuracy = 13.0\n",
      "Epoch: 8\n",
      "Train set results : loss = 0.002274577971547842 , accuracy = 15.000000953674316\n",
      "Test set results : loss = 0.022911248728632927 , accuracy = 13.0\n",
      "Epoch: 9\n",
      "Train set results : loss = 0.0022737556137144566 , accuracy = 15.399999618530273\n",
      "Test set results : loss = 0.022887354716658592 , accuracy = 13.0\n",
      "Epoch: 10\n",
      "Train set results : loss = 0.0022726289462298155 , accuracy = 15.199999809265137\n",
      "Test set results : loss = 0.022855086252093315 , accuracy = 12.0\n",
      "Epoch: 11\n",
      "Train set results : loss = 0.002271053846925497 , accuracy = 15.199999809265137\n",
      "Test set results : loss = 0.022816549986600876 , accuracy = 12.0\n",
      "Epoch: 12\n",
      "Train set results : loss = 0.00226908503100276 , accuracy = 15.600000381469727\n",
      "Test set results : loss = 0.022779498249292374 , accuracy = 11.0\n",
      "Epoch: 13\n",
      "Train set results : loss = 0.0022665681317448616 , accuracy = 16.5\n",
      "Test set results : loss = 0.022742610424757004 , accuracy = 16.0\n",
      "Epoch: 14\n",
      "Train set results : loss = 0.0022636698558926582 , accuracy = 17.700000762939453\n",
      "Test set results : loss = 0.022707397118210793 , accuracy = 17.0\n",
      "Epoch: 15\n",
      "Train set results : loss = 0.0022604921832680702 , accuracy = 19.400001525878906\n",
      "Test set results : loss = 0.022674452513456345 , accuracy = 18.0\n",
      "Training in process for RMSprop (\n",
      "Parameter Group 0\n",
      "    alpha: 0.9\n",
      "    centered: False\n",
      "    eps: 1e-08\n",
      "    lr: 0.001\n",
      "    momentum: 0\n",
      "    weight_decay: 0\n",
      ")............\n",
      "Epoch: 1\n",
      "Train set results : loss = 0.0022052128333598375 , accuracy = 29.69999885559082\n",
      "Test set results : loss = 0.02218981273472309 , accuracy = 26.0\n",
      "Epoch: 2\n",
      "Train set results : loss = 0.0021351645700633526 , accuracy = 41.10000228881836\n",
      "Test set results : loss = 0.021476848050951958 , accuracy = 41.0\n",
      "Epoch: 3\n",
      "Train set results : loss = 0.0020543427672237158 , accuracy = 54.5\n",
      "Test set results : loss = 0.020723726600408554 , accuracy = 55.0\n",
      "Epoch: 4\n",
      "Train set results : loss = 0.0019390714587643743 , accuracy = 58.60000228881836\n",
      "Test set results : loss = 0.019611522555351257 , accuracy = 59.0\n",
      "Epoch: 5\n",
      "Train set results : loss = 0.0018458464182913303 , accuracy = 65.10000610351562\n",
      "Test set results : loss = 0.018655454739928246 , accuracy = 64.0\n",
      "Epoch: 6\n",
      "Train set results : loss = 0.0017357838805764914 , accuracy = 70.70000457763672\n",
      "Test set results : loss = 0.01755286380648613 , accuracy = 67.0\n",
      "Epoch: 7\n",
      "Train set results : loss = 0.0016255003865808249 , accuracy = 71.80000305175781\n",
      "Test set results : loss = 0.016498103737831116 , accuracy = 69.0\n",
      "Epoch: 8\n",
      "Train set results : loss = 0.00151292874943465 , accuracy = 72.39999389648438\n",
      "Test set results : loss = 0.015341116115450859 , accuracy = 65.0\n",
      "Epoch: 9\n",
      "Train set results : loss = 0.001461710431613028 , accuracy = 74.29999542236328\n",
      "Test set results : loss = 0.014908675104379654 , accuracy = 69.0\n",
      "Epoch: 10\n",
      "Train set results : loss = 0.0013661435805261135 , accuracy = 78.30000305175781\n",
      "Test set results : loss = 0.013891059905290604 , accuracy = 73.0\n",
      "Epoch: 11\n",
      "Train set results : loss = 0.0013059648917987943 , accuracy = 77.20000457763672\n",
      "Test set results : loss = 0.013406643643975258 , accuracy = 69.0\n",
      "Epoch: 12\n",
      "Train set results : loss = 0.0012418868718668818 , accuracy = 80.9000015258789\n",
      "Test set results : loss = 0.012703385204076767 , accuracy = 74.0\n",
      "Epoch: 13\n",
      "Train set results : loss = 0.001142479362897575 , accuracy = 81.19999694824219\n",
      "Test set results : loss = 0.011869187466800213 , accuracy = 74.0\n",
      "Epoch: 14\n",
      "Train set results : loss = 0.001102742739021778 , accuracy = 83.20000457763672\n",
      "Test set results : loss = 0.011381346732378006 , accuracy = 74.0\n",
      "Epoch: 15\n",
      "Train set results : loss = 0.0010342918103560805 , accuracy = 84.0\n",
      "Test set results : loss = 0.01080196350812912 , accuracy = 76.0\n"
     ]
    }
   ],
   "source": [
    "n_epochs = 15\n",
    "rows, cols = (3, n_epochs)\n",
    "\n",
    "train_accu = np.zeros((rows, cols))\n",
    "train_loss = np.zeros((rows, cols))\n",
    "test_acc = np.zeros((rows, cols))\n",
    "test_loss = np.zeros((rows, cols))\n",
    "\n",
    "for i in range(3):  \n",
    "    print(f\"Training in process for {opt_list[i]}............\")\n",
    "    for epoch in range(1,  n_epochs+ 1):\n",
    "        print('Epoch: {0}'.format(epoch))\n",
    "        train(epoch,opt_list[i])\n",
    "        a,b=train_accuracy()\n",
    "        c,d,bt_layer=test(epoch)\n",
    "        train_accu[i][epoch-1]=b\n",
    "        test_acc[i][epoch-1]=(d)\n",
    "        train_loss[i][epoch-1]=(a)\n",
    "        test_loss[i][epoch-1]=(c)"
   ]
  },
  {
   "cell_type": "code",
   "execution_count": 33,
   "id": "8e115597",
   "metadata": {},
   "outputs": [
    {
     "name": "stdout",
     "output_type": "stream",
     "text": [
      "test accuracy: Vanilla SGd - 9.0 % \n",
      "test accuracy: Momentum SGD - 18.0 % \n",
      "test accuracy: RMSProp - 76.0 % \n"
     ]
    }
   ],
   "source": [
    "print(f\"test accuracy: Vanilla SGd - {train_accu[0][14]} % \")\n",
    "print(f\"test accuracy: Momentum SGD - {train_accu[1][14]} % \")\n",
    "print(f\"test accuracy: RMSProp - {train_accu[2][14]} % \")\n",
    "print(\"\\n\")\n",
    "print(f\"test accuracy: Vanilla SGd - {test_acc[0][14]} % \")\n",
    "print(f\"test accuracy: Momentum SGD - {test_acc[1][14]} % \")\n",
    "print(f\"test accuracy: RMSProp - {test_acc[2][14]} % \")"
   ]
  },
  {
   "cell_type": "markdown",
   "id": "dbf0f61f",
   "metadata": {},
   "source": [
    "### dropout 0.8"
   ]
  },
  {
   "cell_type": "code",
   "execution_count": 34,
   "id": "b23a3e2c",
   "metadata": {},
   "outputs": [
    {
     "name": "stdout",
     "output_type": "stream",
     "text": [
      "Initializing weights for layer: Conv2d(1, 10, kernel_size=(5, 5), stride=(1, 1))\n",
      "Initializing weights for layer: Conv2d(10, 20, kernel_size=(5, 5), stride=(1, 1))\n",
      "Initializing weights for layer: Linear(in_features=320, out_features=50, bias=True)\n",
      "Initializing weights for layer: Linear(in_features=50, out_features=10, bias=True)\n"
     ]
    },
    {
     "name": "stderr",
     "output_type": "stream",
     "text": [
      "/tmp/ipykernel_58727/3934088816.py:5: UserWarning: nn.init.xavier_uniform is now deprecated in favor of nn.init.xavier_uniform_.\n",
      "  xavier_uniform(n.weight)\n"
     ]
    }
   ],
   "source": [
    "p = 0.80\n",
    "model = Net()\n",
    "model.apply(initialize_W)\n",
    "\n",
    "optimizer1 = optim.SGD(model.parameters(), lr=0.001)\n",
    "optimizer2 = optim.SGD(model.parameters(), lr=0.01, momentum=0.9)\n",
    "optimizer3 = optim.RMSprop(model.parameters(),lr=0.001,alpha=0.9)\n",
    "\n",
    "opt_list=[optimizer1,optimizer2,optimizer3]"
   ]
  },
  {
   "cell_type": "code",
   "execution_count": 35,
   "id": "fbd8c1b1",
   "metadata": {},
   "outputs": [
    {
     "name": "stdout",
     "output_type": "stream",
     "text": [
      "Training in process for SGD (\n",
      "Parameter Group 0\n",
      "    dampening: 0\n",
      "    lr: 0.001\n",
      "    momentum: 0\n",
      "    nesterov: False\n",
      "    weight_decay: 0\n",
      ")............\n",
      "Epoch: 1\n",
      "Train set results : loss = 0.0024669310078024864 , accuracy = 9.600000381469727\n",
      "Test set results : loss = 0.024419931694865227 , accuracy = 9.0\n",
      "Epoch: 2\n"
     ]
    },
    {
     "name": "stderr",
     "output_type": "stream",
     "text": [
      "/tmp/ipykernel_58727/2050569948.py:6: UserWarning: volatile was removed and now has no effect. Use `with torch.no_grad():` instead.\n",
      "  data = Variable(train_data, volatile=True)\n",
      "/tmp/ipykernel_58727/621324685.py:7: UserWarning: volatile was removed and now has no effect. Use `with torch.no_grad():` instead.\n",
      "  data =  Variable(test_data, volatile=True)\n"
     ]
    },
    {
     "name": "stdout",
     "output_type": "stream",
     "text": [
      "Train set results : loss = 0.0024528279900550842 , accuracy = 9.899999618530273\n",
      "Test set results : loss = 0.024280225858092308 , accuracy = 9.0\n",
      "Epoch: 3\n",
      "Train set results : loss = 0.002441147807985544 , accuracy = 10.199999809265137\n",
      "Test set results : loss = 0.024167928844690323 , accuracy = 9.0\n",
      "Epoch: 4\n",
      "Train set results : loss = 0.002429364947602153 , accuracy = 10.300000190734863\n",
      "Test set results : loss = 0.02405483089387417 , accuracy = 9.0\n",
      "Epoch: 5\n",
      "Train set results : loss = 0.00242012832313776 , accuracy = 10.300000190734863\n",
      "Test set results : loss = 0.023966338485479355 , accuracy = 9.0\n",
      "Epoch: 6\n",
      "Train set results : loss = 0.0024102863389998674 , accuracy = 10.40000057220459\n",
      "Test set results : loss = 0.023873139172792435 , accuracy = 9.0\n",
      "Epoch: 7\n",
      "Train set results : loss = 0.0024018948897719383 , accuracy = 10.40000057220459\n",
      "Test set results : loss = 0.023794330656528473 , accuracy = 9.0\n",
      "Epoch: 8\n",
      "Train set results : loss = 0.002395667601376772 , accuracy = 10.5\n",
      "Test set results : loss = 0.023734090849757195 , accuracy = 9.0\n",
      "Epoch: 9\n",
      "Train set results : loss = 0.0023885818663984537 , accuracy = 10.5\n",
      "Test set results : loss = 0.023667125031352043 , accuracy = 9.0\n",
      "Epoch: 10\n",
      "Train set results : loss = 0.0023824330419301987 , accuracy = 10.5\n",
      "Test set results : loss = 0.023612050339579582 , accuracy = 9.0\n",
      "Epoch: 11\n",
      "Train set results : loss = 0.0023772669956088066 , accuracy = 10.5\n",
      "Test set results : loss = 0.023566732183098793 , accuracy = 9.0\n",
      "Epoch: 12\n",
      "Train set results : loss = 0.0023721205070614815 , accuracy = 10.5\n",
      "Test set results : loss = 0.023522477596998215 , accuracy = 9.0\n",
      "Epoch: 13\n",
      "Train set results : loss = 0.002367638750001788 , accuracy = 10.59999942779541\n",
      "Test set results : loss = 0.023482315242290497 , accuracy = 10.0\n",
      "Epoch: 14\n",
      "Train set results : loss = 0.0023634156677871943 , accuracy = 10.699999809265137\n",
      "Test set results : loss = 0.023447616025805473 , accuracy = 10.0\n",
      "Epoch: 15\n",
      "Train set results : loss = 0.002359634730964899 , accuracy = 10.699999809265137\n",
      "Test set results : loss = 0.023417197167873383 , accuracy = 10.0\n",
      "Training in process for SGD (\n",
      "Parameter Group 0\n",
      "    dampening: 0\n",
      "    lr: 0.01\n",
      "    momentum: 0.9\n",
      "    nesterov: False\n",
      "    weight_decay: 0\n",
      ")............\n",
      "Epoch: 1\n",
      "Train set results : loss = 0.0023277446161955595 , accuracy = 11.399999618530273\n",
      "Test set results : loss = 0.023181287571787834 , accuracy = 12.0\n",
      "Epoch: 2\n",
      "Train set results : loss = 0.002301170490682125 , accuracy = 11.200000762939453\n",
      "Test set results : loss = 0.023005034774541855 , accuracy = 13.0\n",
      "Epoch: 3\n",
      "Train set results : loss = 0.00229753740131855 , accuracy = 10.300000190734863\n",
      "Test set results : loss = 0.02298915572464466 , accuracy = 8.0\n",
      "Epoch: 4\n",
      "Train set results : loss = 0.0023023695684969425 , accuracy = 11.200000762939453\n",
      "Test set results : loss = 0.023043664172291756 , accuracy = 8.0\n",
      "Epoch: 5\n",
      "Train set results : loss = 0.00230367761105299 , accuracy = 10.100000381469727\n",
      "Test set results : loss = 0.02307347021996975 , accuracy = 9.0\n",
      "Epoch: 6\n",
      "Train set results : loss = 0.0023034377954900265 , accuracy = 10.59999942779541\n",
      "Test set results : loss = 0.02306264452636242 , accuracy = 7.0\n",
      "Epoch: 7\n",
      "Train set results : loss = 0.002303728135302663 , accuracy = 12.0\n",
      "Test set results : loss = 0.023051004856824875 , accuracy = 9.0\n",
      "Epoch: 8\n",
      "Train set results : loss = 0.0023042582906782627 , accuracy = 11.59999942779541\n",
      "Test set results : loss = 0.023053472861647606 , accuracy = 10.0\n",
      "Epoch: 9\n",
      "Train set results : loss = 0.002304531168192625 , accuracy = 12.300000190734863\n",
      "Test set results : loss = 0.02306099608540535 , accuracy = 11.0\n",
      "Epoch: 10\n",
      "Train set results : loss = 0.002304601250216365 , accuracy = 12.199999809265137\n",
      "Test set results : loss = 0.023063432425260544 , accuracy = 10.0\n",
      "Epoch: 11\n",
      "Train set results : loss = 0.0023045812267810106 , accuracy = 12.5\n",
      "Test set results : loss = 0.02306351810693741 , accuracy = 11.0\n",
      "Epoch: 12\n",
      "Train set results : loss = 0.0023045793641358614 , accuracy = 12.399999618530273\n",
      "Test set results : loss = 0.023061590269207954 , accuracy = 11.0\n",
      "Epoch: 13\n",
      "Train set results : loss = 0.0023044971749186516 , accuracy = 12.300000190734863\n",
      "Test set results : loss = 0.023059343919157982 , accuracy = 13.0\n",
      "Epoch: 14\n",
      "Train set results : loss = 0.0023044145200401545 , accuracy = 12.300000190734863\n",
      "Test set results : loss = 0.02305814065039158 , accuracy = 12.0\n",
      "Epoch: 15\n",
      "Train set results : loss = 0.0023042832035571337 , accuracy = 12.199999809265137\n",
      "Test set results : loss = 0.0230566319078207 , accuracy = 12.0\n",
      "Training in process for RMSprop (\n",
      "Parameter Group 0\n",
      "    alpha: 0.9\n",
      "    centered: False\n",
      "    eps: 1e-08\n",
      "    lr: 0.001\n",
      "    momentum: 0\n",
      "    weight_decay: 0\n",
      ")............\n",
      "Epoch: 1\n",
      "Train set results : loss = 0.0023006738629192114 , accuracy = 12.899999618530273\n",
      "Test set results : loss = 0.023031311109662056 , accuracy = 11.0\n",
      "Epoch: 2\n",
      "Train set results : loss = 0.00230281800031662 , accuracy = 13.199999809265137\n",
      "Test set results : loss = 0.023036397993564606 , accuracy = 14.0\n",
      "Epoch: 3\n",
      "Train set results : loss = 0.0022981048095971346 , accuracy = 16.399999618530273\n",
      "Test set results : loss = 0.02300090529024601 , accuracy = 15.0\n",
      "Epoch: 4\n",
      "Train set results : loss = 0.0022982594091445208 , accuracy = 18.399999618530273\n",
      "Test set results : loss = 0.022991228848695755 , accuracy = 19.0\n",
      "Epoch: 5\n",
      "Train set results : loss = 0.002293052850291133 , accuracy = 19.5\n",
      "Test set results : loss = 0.022950762882828712 , accuracy = 19.0\n",
      "Epoch: 6\n",
      "Train set results : loss = 0.0022862788755446672 , accuracy = 23.80000114440918\n",
      "Test set results : loss = 0.022886497899889946 , accuracy = 21.0\n",
      "Epoch: 7\n",
      "Train set results : loss = 0.0022832376416772604 , accuracy = 20.399999618530273\n",
      "Test set results : loss = 0.02287239395081997 , accuracy = 14.0\n",
      "Epoch: 8\n",
      "Train set results : loss = 0.0022746415343135595 , accuracy = 23.80000114440918\n",
      "Test set results : loss = 0.022793734446167946 , accuracy = 23.0\n",
      "Epoch: 9\n",
      "Train set results : loss = 0.002270436380058527 , accuracy = 31.099998474121094\n",
      "Test set results : loss = 0.022745393216609955 , accuracy = 27.0\n",
      "Epoch: 10\n",
      "Train set results : loss = 0.0022740790154784918 , accuracy = 27.000001907348633\n",
      "Test set results : loss = 0.022778436541557312 , accuracy = 28.0\n",
      "Epoch: 11\n",
      "Train set results : loss = 0.002260248176753521 , accuracy = 32.70000076293945\n",
      "Test set results : loss = 0.02264709211885929 , accuracy = 28.0\n",
      "Epoch: 12\n",
      "Train set results : loss = 0.0022464473731815815 , accuracy = 36.79999923706055\n",
      "Test set results : loss = 0.022515008226037025 , accuracy = 35.0\n",
      "Epoch: 13\n",
      "Train set results : loss = 0.0022414226550608873 , accuracy = 39.70000076293945\n",
      "Test set results : loss = 0.022457702085375786 , accuracy = 39.0\n",
      "Epoch: 14\n",
      "Train set results : loss = 0.0022300640121102333 , accuracy = 43.900001525878906\n",
      "Test set results : loss = 0.022352542728185654 , accuracy = 42.0\n",
      "Epoch: 15\n",
      "Train set results : loss = 0.0022133649326860905 , accuracy = 48.5\n",
      "Test set results : loss = 0.022185103967785835 , accuracy = 49.0\n"
     ]
    }
   ],
   "source": [
    "n_epochs = 15\n",
    "rows, cols = (3, n_epochs)\n",
    "\n",
    "train_accu = np.zeros((rows, cols))\n",
    "train_loss = np.zeros((rows, cols))\n",
    "test_acc = np.zeros((rows, cols))\n",
    "test_loss = np.zeros((rows, cols))\n",
    "\n",
    "for i in range(3):  \n",
    "    print(f\"Training in process for {opt_list[i]}............\")\n",
    "    for epoch in range(1,  n_epochs+ 1):\n",
    "        print('Epoch: {0}'.format(epoch))\n",
    "        train(epoch,opt_list[i])\n",
    "        a,b=train_accuracy()\n",
    "        c,d,bt_layer=test(epoch)\n",
    "        train_accu[i][epoch-1]=b\n",
    "        test_acc[i][epoch-1]=(d)\n",
    "        train_loss[i][epoch-1]=(a)\n",
    "        test_loss[i][epoch-1]=(c)"
   ]
  },
  {
   "cell_type": "code",
   "execution_count": 36,
   "id": "b8991dc9",
   "metadata": {},
   "outputs": [
    {
     "name": "stdout",
     "output_type": "stream",
     "text": [
      "test accuracy: Vanilla SGd - 10.699999809265137 % \n",
      "test accuracy: Momentum SGD - 12.199999809265137 % \n",
      "test accuracy: RMSProp - 48.5 % \n",
      "\n",
      "\n",
      "test accuracy: Vanilla SGd - 10.0 % \n",
      "test accuracy: Momentum SGD - 12.0 % \n",
      "test accuracy: RMSProp - 49.0 % \n"
     ]
    }
   ],
   "source": [
    "print(f\"test accuracy: Vanilla SGd - {train_accu[0][14]} % \")\n",
    "print(f\"test accuracy: Momentum SGD - {train_accu[1][14]} % \")\n",
    "print(f\"test accuracy: RMSProp - {train_accu[2][14]} % \")\n",
    "print(\"\\n\")\n",
    "print(f\"test accuracy: Vanilla SGd - {test_acc[0][14]} % \")\n",
    "print(f\"test accuracy: Momentum SGD - {test_acc[1][14]} % \")\n",
    "print(f\"test accuracy: RMSProp - {test_acc[2][14]} % \")"
   ]
  },
  {
   "cell_type": "markdown",
   "id": "f531ff02",
   "metadata": {},
   "source": [
    "With the dropout being included in the CNN without batch normalization, the accuracy has dropped compared to the one without droput and without batch normalization. Thought ther is no significant difference in the loass and accuracy of the vanilla SGD, we can see quite a big difference in the same with the RMSProp and momentum optmizers. The accuracy of RMSProp has dropped from 85% to 42% on the test set.The same trend has been observed with the Train set as well. But one thing that is assureed in this is that , there is no ovefitting!"
   ]
  },
  {
   "cell_type": "markdown",
   "id": "dbd270b7",
   "metadata": {},
   "source": [
    "## Question 7"
   ]
  },
  {
   "cell_type": "code",
   "execution_count": 37,
   "id": "39f92923",
   "metadata": {},
   "outputs": [],
   "source": [
    "#New CNN framework with dropout and batch normalization as well\n",
    "class Net(nn.Module):\n",
    "    def __init__(self):\n",
    "        super(Net, self).__init__()\n",
    "        self.conv1 = nn.Conv2d(1, 10, kernel_size=5) \n",
    "        self.conv2 = nn.Conv2d(10, 20, kernel_size=5)\n",
    "        self.conv2_bn = nn.BatchNorm2d(20)\n",
    "        self.conv2_drop = nn.Dropout2d(p=p)\n",
    "        self.fc1 = nn.Linear(320, 50)\n",
    "        self.fc1_bn = nn.BatchNorm1d(50)\n",
    "        self.fc2 = nn.Linear(50, 10)\n",
    "\n",
    "    def forward(self, x):\n",
    "        x = F.relu(F.max_pool2d(self.conv1(x), 2))\n",
    "        x = F.relu(F.max_pool2d(self.conv2_drop(self.conv2_bn(self.conv2(x))), 2))\n",
    "        x = x.view(-1, 320)\n",
    "        x = F.relu(self.fc1(x))\n",
    "        x = self.fc1_bn(x)\n",
    "        x = F.dropout(x, p=p, training=self.training)\n",
    "        x = self.fc2(x)\n",
    "        return F.log_softmax(x, dim=1)"
   ]
  },
  {
   "cell_type": "code",
   "execution_count": 38,
   "id": "ba478d41",
   "metadata": {},
   "outputs": [
    {
     "name": "stdout",
     "output_type": "stream",
     "text": [
      "Initializing weights for layer: Conv2d(1, 10, kernel_size=(5, 5), stride=(1, 1))\n",
      "Initializing weights for layer: Conv2d(10, 20, kernel_size=(5, 5), stride=(1, 1))\n",
      "Initializing weights for layer: Linear(in_features=320, out_features=50, bias=True)\n",
      "Initializing weights for layer: Linear(in_features=50, out_features=10, bias=True)\n"
     ]
    },
    {
     "name": "stderr",
     "output_type": "stream",
     "text": [
      "/tmp/ipykernel_58727/3934088816.py:5: UserWarning: nn.init.xavier_uniform is now deprecated in favor of nn.init.xavier_uniform_.\n",
      "  xavier_uniform(n.weight)\n"
     ]
    }
   ],
   "source": [
    "p = 0.2 #fix the droput at 0.2\n",
    "model = Net()\n",
    "model.apply(initialize_W)\n",
    "\n",
    "optimizer1 = optim.SGD(model.parameters(), lr=0.001)\n",
    "optimizer2 = optim.SGD(model.parameters(), lr=0.01, momentum=0.9)\n",
    "optimizer3 = optim.RMSprop(model.parameters(),lr=0.001,alpha=0.9)\n",
    "\n",
    "opt_list=[optimizer1,optimizer2,optimizer3]"
   ]
  },
  {
   "cell_type": "code",
   "execution_count": 39,
   "id": "6a17f000",
   "metadata": {},
   "outputs": [
    {
     "name": "stdout",
     "output_type": "stream",
     "text": [
      "Training in process for SGD (\n",
      "Parameter Group 0\n",
      "    dampening: 0\n",
      "    lr: 0.001\n",
      "    momentum: 0\n",
      "    nesterov: False\n",
      "    weight_decay: 0\n",
      ")............\n",
      "Epoch: 1\n",
      "Train set results : loss = 0.002323963912203908 , accuracy = 11.399999618530273\n",
      "Test set results : loss = 0.02292259782552719 , accuracy = 15.0\n",
      "Epoch: 2\n"
     ]
    },
    {
     "name": "stderr",
     "output_type": "stream",
     "text": [
      "/tmp/ipykernel_58727/2050569948.py:6: UserWarning: volatile was removed and now has no effect. Use `with torch.no_grad():` instead.\n",
      "  data = Variable(train_data, volatile=True)\n",
      "/tmp/ipykernel_58727/621324685.py:7: UserWarning: volatile was removed and now has no effect. Use `with torch.no_grad():` instead.\n",
      "  data =  Variable(test_data, volatile=True)\n"
     ]
    },
    {
     "name": "stdout",
     "output_type": "stream",
     "text": [
      "Train set results : loss = 0.0023145624436438084 , accuracy = 11.300000190734863\n",
      "Test set results : loss = 0.022816358134150505 , accuracy = 16.0\n",
      "Epoch: 3\n",
      "Train set results : loss = 0.0023078895173966885 , accuracy = 11.0\n",
      "Test set results : loss = 0.02273470349609852 , accuracy = 17.0\n",
      "Epoch: 4\n",
      "Train set results : loss = 0.002304164692759514 , accuracy = 10.899999618530273\n",
      "Test set results : loss = 0.02267148718237877 , accuracy = 18.0\n",
      "Epoch: 5\n",
      "Train set results : loss = 0.0023022780660539865 , accuracy = 10.300000190734863\n",
      "Test set results : loss = 0.02262379601597786 , accuracy = 17.0\n",
      "Epoch: 6\n",
      "Train set results : loss = 0.002301441505551338 , accuracy = 11.300000190734863\n",
      "Test set results : loss = 0.022590387612581253 , accuracy = 18.0\n",
      "Epoch: 7\n",
      "Train set results : loss = 0.0023013995960354805 , accuracy = 12.199999809265137\n",
      "Test set results : loss = 0.022562334313988686 , accuracy = 17.0\n",
      "Epoch: 8\n",
      "Train set results : loss = 0.002301674336194992 , accuracy = 11.90000057220459\n",
      "Test set results : loss = 0.02254609577357769 , accuracy = 16.0\n",
      "Epoch: 9\n",
      "Train set results : loss = 0.0023023891262710094 , accuracy = 12.0\n",
      "Test set results : loss = 0.022531021386384964 , accuracy = 14.0\n",
      "Epoch: 10\n",
      "Train set results : loss = 0.0023028221912682056 , accuracy = 11.699999809265137\n",
      "Test set results : loss = 0.022515013813972473 , accuracy = 15.0\n",
      "Epoch: 11\n",
      "Train set results : loss = 0.002302715089172125 , accuracy = 11.59999942779541\n",
      "Test set results : loss = 0.022497516125440598 , accuracy = 13.0\n",
      "Epoch: 12\n",
      "Train set results : loss = 0.0023016745690256357 , accuracy = 11.800000190734863\n",
      "Test set results : loss = 0.02246418222784996 , accuracy = 14.0\n",
      "Epoch: 13\n",
      "Train set results : loss = 0.0023009260185062885 , accuracy = 11.699999809265137\n",
      "Test set results : loss = 0.0224313922226429 , accuracy = 14.0\n",
      "Epoch: 14\n",
      "Train set results : loss = 0.002299546729773283 , accuracy = 12.100000381469727\n",
      "Test set results : loss = 0.02239535003900528 , accuracy = 16.0\n",
      "Epoch: 15\n",
      "Train set results : loss = 0.0022971706930547953 , accuracy = 12.300000190734863\n",
      "Test set results : loss = 0.022345252335071564 , accuracy = 18.0\n",
      "Training in process for SGD (\n",
      "Parameter Group 0\n",
      "    dampening: 0\n",
      "    lr: 0.01\n",
      "    momentum: 0.9\n",
      "    nesterov: False\n",
      "    weight_decay: 0\n",
      ")............\n",
      "Epoch: 1\n",
      "Train set results : loss = 0.002227461664006114 , accuracy = 17.600000381469727\n",
      "Test set results : loss = 0.021565744653344154 , accuracy = 22.0\n",
      "Epoch: 2\n",
      "Train set results : loss = 0.002105215098708868 , accuracy = 23.700000762939453\n",
      "Test set results : loss = 0.020362205803394318 , accuracy = 29.0\n",
      "Epoch: 3\n",
      "Train set results : loss = 0.0019676752854138613 , accuracy = 31.60000228881836\n",
      "Test set results : loss = 0.019059553742408752 , accuracy = 37.0\n",
      "Epoch: 4\n",
      "Train set results : loss = 0.0018366107251495123 , accuracy = 37.20000076293945\n",
      "Test set results : loss = 0.017924945801496506 , accuracy = 41.0\n",
      "Epoch: 5\n",
      "Train set results : loss = 0.0017145166639238596 , accuracy = 40.900001525878906\n",
      "Test set results : loss = 0.0169756431132555 , accuracy = 49.0\n",
      "Epoch: 6\n",
      "Train set results : loss = 0.0015837032115086913 , accuracy = 45.599998474121094\n",
      "Test set results : loss = 0.01599956303834915 , accuracy = 51.0\n",
      "Epoch: 7\n",
      "Train set results : loss = 0.0014369988348335028 , accuracy = 52.999996185302734\n",
      "Test set results : loss = 0.014862102456390858 , accuracy = 48.0\n",
      "Epoch: 8\n",
      "Train set results : loss = 0.001285887323319912 , accuracy = 58.79999923706055\n",
      "Test set results : loss = 0.013636155053973198 , accuracy = 51.0\n",
      "Epoch: 9\n",
      "Train set results : loss = 0.0011532293865457177 , accuracy = 62.69999694824219\n",
      "Test set results : loss = 0.012540728785097599 , accuracy = 58.0\n",
      "Epoch: 10\n",
      "Train set results : loss = 0.0010442673228681087 , accuracy = 65.5999984741211\n",
      "Test set results : loss = 0.011599079705774784 , accuracy = 61.0\n",
      "Epoch: 11\n",
      "Train set results : loss = 0.0009578802855685353 , accuracy = 68.30000305175781\n",
      "Test set results : loss = 0.01075211726129055 , accuracy = 66.0\n",
      "Epoch: 12\n",
      "Train set results : loss = 0.0008899069507606328 , accuracy = 70.4000015258789\n",
      "Test set results : loss = 0.010061737149953842 , accuracy = 68.0\n",
      "Epoch: 13\n",
      "Train set results : loss = 0.0008331048302352428 , accuracy = 72.0\n",
      "Test set results : loss = 0.009467639029026031 , accuracy = 68.0\n",
      "Epoch: 14\n",
      "Train set results : loss = 0.0007861324702389538 , accuracy = 72.89999389648438\n",
      "Test set results : loss = 0.009002314880490303 , accuracy = 72.0\n",
      "Epoch: 15\n",
      "Train set results : loss = 0.0007454376318491995 , accuracy = 74.0999984741211\n",
      "Test set results : loss = 0.008600287139415741 , accuracy = 73.0\n",
      "Training in process for RMSprop (\n",
      "Parameter Group 0\n",
      "    alpha: 0.9\n",
      "    centered: False\n",
      "    eps: 1e-08\n",
      "    lr: 0.001\n",
      "    momentum: 0\n",
      "    weight_decay: 0\n",
      ")............\n",
      "Epoch: 1\n",
      "Train set results : loss = 0.0006719479570165277 , accuracy = 78.0\n",
      "Test set results : loss = 0.008383078500628471 , accuracy = 74.0\n",
      "Epoch: 2\n",
      "Train set results : loss = 0.0005153771489858627 , accuracy = 84.19999694824219\n",
      "Test set results : loss = 0.007174675352871418 , accuracy = 76.0\n",
      "Epoch: 3\n",
      "Train set results : loss = 0.0004701958387158811 , accuracy = 86.79999542236328\n",
      "Test set results : loss = 0.006317896768450737 , accuracy = 78.0\n",
      "Epoch: 4\n",
      "Train set results : loss = 0.00043099382310174406 , accuracy = 87.80000305175781\n",
      "Test set results : loss = 0.005650262348353863 , accuracy = 80.0\n",
      "Epoch: 5\n",
      "Train set results : loss = 0.0003965765063185245 , accuracy = 88.5999984741211\n",
      "Test set results : loss = 0.005035195499658585 , accuracy = 82.0\n",
      "Epoch: 6\n",
      "Train set results : loss = 0.00036919250851497054 , accuracy = 90.10000610351562\n",
      "Test set results : loss = 0.004946113098412752 , accuracy = 82.0\n",
      "Epoch: 7\n",
      "Train set results : loss = 0.0003373742219991982 , accuracy = 91.69999694824219\n",
      "Test set results : loss = 0.004389945883303881 , accuracy = 87.0\n",
      "Epoch: 8\n",
      "Train set results : loss = 0.0003213047457393259 , accuracy = 92.4000015258789\n",
      "Test set results : loss = 0.0041879527270793915 , accuracy = 88.0\n",
      "Epoch: 9\n",
      "Train set results : loss = 0.00030360816163010895 , accuracy = 92.69999694824219\n",
      "Test set results : loss = 0.00411860179156065 , accuracy = 88.0\n",
      "Epoch: 10\n",
      "Train set results : loss = 0.0003000915748998523 , accuracy = 93.5\n",
      "Test set results : loss = 0.004023764282464981 , accuracy = 91.0\n",
      "Epoch: 11\n",
      "Train set results : loss = 0.00029347618692554533 , accuracy = 94.0\n",
      "Test set results : loss = 0.004037211649119854 , accuracy = 89.0\n",
      "Epoch: 12\n",
      "Train set results : loss = 0.00028783941525034606 , accuracy = 93.9000015258789\n",
      "Test set results : loss = 0.0037722839042544365 , accuracy = 91.0\n",
      "Epoch: 13\n",
      "Train set results : loss = 0.00027000781847164035 , accuracy = 94.9000015258789\n",
      "Test set results : loss = 0.003682444104924798 , accuracy = 91.0\n",
      "Epoch: 14\n",
      "Train set results : loss = 0.0002545333409216255 , accuracy = 95.0999984741211\n",
      "Test set results : loss = 0.003601886099204421 , accuracy = 90.0\n",
      "Epoch: 15\n",
      "Train set results : loss = 0.00024817476514726877 , accuracy = 95.80000305175781\n",
      "Test set results : loss = 0.003548916196450591 , accuracy = 93.0\n"
     ]
    }
   ],
   "source": [
    "n_epochs = 15\n",
    "rows, cols = (3, n_epochs)\n",
    "\n",
    "train_accu = np.zeros((rows, cols))\n",
    "train_loss = np.zeros((rows, cols))\n",
    "test_acc = np.zeros((rows, cols))\n",
    "test_loss = np.zeros((rows, cols))\n",
    "\n",
    "for i in range(3):  \n",
    "    print(f\"Training in process for {opt_list[i]}............\")\n",
    "    for epoch in range(1,  n_epochs+ 1):\n",
    "        print('Epoch: {0}'.format(epoch))\n",
    "        train(epoch,opt_list[i])\n",
    "        a,b=train_accuracy()\n",
    "        c,d,bt_layer=test(epoch)\n",
    "        train_accu[i][epoch-1]=b\n",
    "        test_acc[i][epoch-1]=(d)\n",
    "        train_loss[i][epoch-1]=(a)\n",
    "        test_loss[i][epoch-1]=(c)"
   ]
  },
  {
   "cell_type": "markdown",
   "id": "3a178944",
   "metadata": {},
   "source": [
    "Vanilla SGD"
   ]
  },
  {
   "cell_type": "code",
   "execution_count": 40,
   "id": "108e822a",
   "metadata": {},
   "outputs": [
    {
     "data": {
      "image/png": "[encoded data removed]",
      "text/plain": [
       "<Figure size 432x288 with 1 Axes>"
      ]
     },
     "metadata": {
      "needs_background": "light"
     },
     "output_type": "display_data"
    }
   ],
   "source": [
    "plt.plot(train_accu[0],label=\"train accuracy\")\n",
    "plt.plot(test_acc[0],label=\"test accuracy\")\n",
    "leg = plt.legend(loc='lower right')\n",
    "plt.show()"
   ]
  },
  {
   "cell_type": "code",
   "execution_count": 41,
   "id": "81fa98a5",
   "metadata": {},
   "outputs": [
    {
     "data": {
      "image/png": "[encoded data removed]",
      "text/plain": [
       "<Figure size 432x288 with 1 Axes>"
      ]
     },
     "metadata": {
      "needs_background": "light"
     },
     "output_type": "display_data"
    }
   ],
   "source": [
    "plt.plot(train_loss[0],label=\"train error\")\n",
    "plt.plot(test_loss[0],label=\"test error\")\n",
    "leg = plt.legend(loc='upper left')\n",
    "plt.show()"
   ]
  },
  {
   "cell_type": "markdown",
   "id": "6cba3d21",
   "metadata": {},
   "source": [
    "Momentum"
   ]
  },
  {
   "cell_type": "code",
   "execution_count": 42,
   "id": "bec042c5",
   "metadata": {},
   "outputs": [
    {
     "data": {
      "image/png": "[encoded data removed]",
      "text/plain": [
       "<Figure size 432x288 with 1 Axes>"
      ]
     },
     "metadata": {
      "needs_background": "light"
     },
     "output_type": "display_data"
    }
   ],
   "source": [
    "plt.plot(train_accu[1],label=\"train accuracy\")\n",
    "plt.plot(test_acc[1],label=\"test accuracy\")\n",
    "leg = plt.legend(loc='lower right')\n",
    "plt.show()"
   ]
  },
  {
   "cell_type": "code",
   "execution_count": 43,
   "id": "7fd64b00",
   "metadata": {},
   "outputs": [
    {
     "data": {
      "image/png": "[encoded data removed]",
      "text/plain": [
       "<Figure size 432x288 with 1 Axes>"
      ]
     },
     "metadata": {
      "needs_background": "light"
     },
     "output_type": "display_data"
    }
   ],
   "source": [
    "plt.plot(train_loss[1],label=\"train error\")\n",
    "plt.plot(test_loss[1],label=\"test error\")\n",
    "leg = plt.legend(loc='upper left')\n",
    "plt.show()"
   ]
  },
  {
   "cell_type": "markdown",
   "id": "c7558b08",
   "metadata": {},
   "source": [
    "RMSProp SGD"
   ]
  },
  {
   "cell_type": "code",
   "execution_count": 44,
   "id": "5aadfcf4",
   "metadata": {},
   "outputs": [
    {
     "data": {
      "image/png": "[encoded data removed]",
      "text/plain": [
       "<Figure size 432x288 with 1 Axes>"
      ]
     },
     "metadata": {
      "needs_background": "light"
     },
     "output_type": "display_data"
    }
   ],
   "source": [
    "plt.plot(train_accu[2],label=\"train accuracy\")\n",
    "plt.plot(test_acc[2],label=\"test accuracy\")\n",
    "leg = plt.legend(loc='lower right')\n",
    "plt.show()"
   ]
  },
  {
   "cell_type": "code",
   "execution_count": 45,
   "id": "8ce5af1a",
   "metadata": {},
   "outputs": [
    {
     "data": {
      "image/png": "[encoded data removed]",
      "text/plain": [
       "<Figure size 432x288 with 1 Axes>"
      ]
     },
     "metadata": {
      "needs_background": "light"
     },
     "output_type": "display_data"
    }
   ],
   "source": [
    "plt.plot(train_loss[2],label=\"train error\")\n",
    "plt.plot(test_loss[2],label=\"test error\")\n",
    "leg = plt.legend(loc='upper left')\n",
    "plt.show()"
   ]
  },
  {
   "cell_type": "code",
   "execution_count": 46,
   "id": "8d8cc4ec",
   "metadata": {},
   "outputs": [
    {
     "name": "stdout",
     "output_type": "stream",
     "text": [
      "test accuracy: Vanilla SGd - 12.300000190734863 % \n",
      "test accuracy: Momentum SGD - 74.0999984741211 % \n",
      "test accuracy: RMSProp - 95.80000305175781 % \n",
      "\n",
      "\n",
      "test accuracy: Vanilla SGd - 18.0 % \n",
      "test accuracy: Momentum SGD - 73.0 % \n",
      "test accuracy: RMSProp - 93.0 % \n"
     ]
    }
   ],
   "source": [
    "print(f\"test accuracy: Vanilla SGd - {train_accu[0][14]} % \")\n",
    "print(f\"test accuracy: Momentum SGD - {train_accu[1][14]} % \")\n",
    "print(f\"test accuracy: RMSProp - {train_accu[2][14]} % \")\n",
    "print(\"\\n\")\n",
    "print(f\"test accuracy: Vanilla SGd - {test_acc[0][14]} % \")\n",
    "print(f\"test accuracy: Momentum SGD - {test_acc[1][14]} % \")\n",
    "print(f\"test accuracy: RMSProp - {test_acc[2][14]} % \")"
   ]
  },
  {
   "cell_type": "markdown",
   "id": "cb459aab",
   "metadata": {},
   "source": [
    "Comaprision with the Vanilla SGD - Asa we can clearly see from the results, that the accuracy has been tremendously increased in the momentum and RMSProp implementation with a huge margin of 70 %. The model performs the best with the RMSProp optimizer rather then vanilla SGD\n",
    "\n",
    "Comparision with Queestion6 - With the addition of batch normalization to the dropout, the model performs better. It gives lesser loss and greater accuracy on the test set. The test accuracy of the RMSProp has increased from 50% to 93% and the train accuracy from 49% to 95% after the addition of the batch normalization. \n",
    "\n",
    "The best CNN framework so far is the one that has both dropout and batch normalization."
   ]
  },
  {
   "cell_type": "code",
   "execution_count": null,
   "id": "6e49228d",
   "metadata": {},
   "outputs": [],
   "source": []
  }
 ],
 "metadata": {
  "kernelspec": {
   "display_name": "Python 3 (ipykernel)",
   "language": "python",
   "name": "python3"
  },
  "language_info": {
   "codemirror_mode": {
    "name": "ipython",
    "version": 3
   },
   "file_extension": ".py",
   "mimetype": "text/x-python",
   "name": "python",
   "nbconvert_exporter": "python",
   "pygments_lexer": "ipython3",
   "version": "3.9.7"
  }
 },
 "nbformat": 4,
 "nbformat_minor": 5
}
