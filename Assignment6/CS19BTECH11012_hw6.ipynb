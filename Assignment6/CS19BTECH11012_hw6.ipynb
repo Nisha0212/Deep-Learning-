{
 "cells": [
  {
   "cell_type": "code",
   "execution_count": 1,
   "id": "93c23226",
   "metadata": {
    "id": "93c23226",
    "outputId": "61236a30-00fb-48a9-9171-2b760882a8fe"
   },
   "outputs": [
    {
     "name": "stdout",
     "output_type": "stream",
     "text": [
      "Requirement already satisfied: torchsummary in /home/sid/anaconda3/envs/pytorch/lib/python3.9/site-packages (1.5.1)\r\n",
      "Requirement already satisfied: pytorch-ignite in /home/sid/anaconda3/envs/pytorch/lib/python3.9/site-packages (0.4.8)\r\n",
      "Requirement already satisfied: torch<2,>=1.3 in /home/sid/anaconda3/envs/pytorch/lib/python3.9/site-packages (from pytorch-ignite) (1.10.1)\r\n",
      "Requirement already satisfied: typing_extensions in /home/sid/anaconda3/envs/pytorch/lib/python3.9/site-packages (from torch<2,>=1.3->pytorch-ignite) (3.10.0.2)\r\n"
     ]
    }
   ],
   "source": [
    "import os\n",
    "import random\n",
    "import pandas as pd\n",
    "import shutil\n",
    "!pip install torchsummary pytorch-ignite\n",
    "from torchsummary import summary\n",
    "import torch\n",
    "import torch.optim as optim\n",
    "import torch.nn as nn\n",
    "from torch.utils.data import DataLoader,Dataset\n",
    "from torchvision import transforms as T\n",
    "import numpy as np\n",
    "import matplotlib.pyplot as plt"
   ]
  },
  {
   "cell_type": "code",
   "execution_count": 2,
   "id": "aedfa438",
   "metadata": {
    "id": "aedfa438"
   },
   "outputs": [],
   "source": [
    "from ignite.engine import Events, create_supervised_trainer, create_supervised_evaluator\n",
    "from ignite.metrics import Accuracy, Loss\n",
    "from ignite.contrib.handlers import ProgressBar\n",
    "import ignite.contrib.engines.common as common"
   ]
  },
  {
   "cell_type": "markdown",
   "id": "ae430251",
   "metadata": {
    "id": "ae430251"
   },
   "source": [
    "# Question 1\n"
   ]
  },
  {
   "cell_type": "code",
   "execution_count": 3,
   "id": "01289524",
   "metadata": {
    "id": "01289524"
   },
   "outputs": [],
   "source": [
    "#load the data into a dataframe\n",
    "data_val=pd.read_csv('./tiny-imagenet-200/val/val_annotations.txt',sep='\\t',header=None)"
   ]
  },
  {
   "cell_type": "code",
   "execution_count": 4,
   "id": "594e73d6",
   "metadata": {
    "id": "594e73d6",
    "outputId": "15044835-6d61-4010-ea00-c52d399bc6bb"
   },
   "outputs": [
    {
     "data": {
      "text/html": [
       "<div>\n",
       "<style scoped>\n",
       "    .dataframe tbody tr th:only-of-type {\n",
       "        vertical-align: middle;\n",
       "    }\n",
       "\n",
       "    .dataframe tbody tr th {\n",
       "        vertical-align: top;\n",
       "    }\n",
       "\n",
       "    .dataframe thead th {\n",
       "        text-align: right;\n",
       "    }\n",
       "</style>\n",
       "<table border=\"1\" class=\"dataframe\">\n",
       "  <thead>\n",
       "    <tr style=\"text-align: right;\">\n",
       "      <th></th>\n",
       "      <th>filename</th>\n",
       "      <th>label</th>\n",
       "      <th>2</th>\n",
       "      <th>3</th>\n",
       "      <th>4</th>\n",
       "      <th>5</th>\n",
       "    </tr>\n",
       "  </thead>\n",
       "  <tbody>\n",
       "    <tr>\n",
       "      <th>0</th>\n",
       "      <td>val_0.JPEG</td>\n",
       "      <td>n03444034</td>\n",
       "      <td>0</td>\n",
       "      <td>32</td>\n",
       "      <td>44</td>\n",
       "      <td>62</td>\n",
       "    </tr>\n",
       "    <tr>\n",
       "      <th>1</th>\n",
       "      <td>val_1.JPEG</td>\n",
       "      <td>n04067472</td>\n",
       "      <td>52</td>\n",
       "      <td>55</td>\n",
       "      <td>57</td>\n",
       "      <td>59</td>\n",
       "    </tr>\n",
       "    <tr>\n",
       "      <th>2</th>\n",
       "      <td>val_2.JPEG</td>\n",
       "      <td>n04070727</td>\n",
       "      <td>4</td>\n",
       "      <td>0</td>\n",
       "      <td>60</td>\n",
       "      <td>55</td>\n",
       "    </tr>\n",
       "    <tr>\n",
       "      <th>3</th>\n",
       "      <td>val_3.JPEG</td>\n",
       "      <td>n02808440</td>\n",
       "      <td>3</td>\n",
       "      <td>3</td>\n",
       "      <td>63</td>\n",
       "      <td>63</td>\n",
       "    </tr>\n",
       "    <tr>\n",
       "      <th>4</th>\n",
       "      <td>val_4.JPEG</td>\n",
       "      <td>n02808440</td>\n",
       "      <td>9</td>\n",
       "      <td>27</td>\n",
       "      <td>63</td>\n",
       "      <td>48</td>\n",
       "    </tr>\n",
       "    <tr>\n",
       "      <th>...</th>\n",
       "      <td>...</td>\n",
       "      <td>...</td>\n",
       "      <td>...</td>\n",
       "      <td>...</td>\n",
       "      <td>...</td>\n",
       "      <td>...</td>\n",
       "    </tr>\n",
       "    <tr>\n",
       "      <th>9995</th>\n",
       "      <td>val_9995.JPEG</td>\n",
       "      <td>n03085013</td>\n",
       "      <td>0</td>\n",
       "      <td>0</td>\n",
       "      <td>63</td>\n",
       "      <td>63</td>\n",
       "    </tr>\n",
       "    <tr>\n",
       "      <th>9996</th>\n",
       "      <td>val_9996.JPEG</td>\n",
       "      <td>n03444034</td>\n",
       "      <td>0</td>\n",
       "      <td>9</td>\n",
       "      <td>63</td>\n",
       "      <td>63</td>\n",
       "    </tr>\n",
       "    <tr>\n",
       "      <th>9997</th>\n",
       "      <td>val_9997.JPEG</td>\n",
       "      <td>n03424325</td>\n",
       "      <td>10</td>\n",
       "      <td>10</td>\n",
       "      <td>38</td>\n",
       "      <td>42</td>\n",
       "    </tr>\n",
       "    <tr>\n",
       "      <th>9998</th>\n",
       "      <td>val_9998.JPEG</td>\n",
       "      <td>n01629819</td>\n",
       "      <td>28</td>\n",
       "      <td>18</td>\n",
       "      <td>63</td>\n",
       "      <td>31</td>\n",
       "    </tr>\n",
       "    <tr>\n",
       "      <th>9999</th>\n",
       "      <td>val_9999.JPEG</td>\n",
       "      <td>n02699494</td>\n",
       "      <td>17</td>\n",
       "      <td>33</td>\n",
       "      <td>28</td>\n",
       "      <td>39</td>\n",
       "    </tr>\n",
       "  </tbody>\n",
       "</table>\n",
       "<p>10000 rows × 6 columns</p>\n",
       "</div>"
      ],
      "text/plain": [
       "           filename      label   2   3   4   5\n",
       "0        val_0.JPEG  n03444034   0  32  44  62\n",
       "1        val_1.JPEG  n04067472  52  55  57  59\n",
       "2        val_2.JPEG  n04070727   4   0  60  55\n",
       "3        val_3.JPEG  n02808440   3   3  63  63\n",
       "4        val_4.JPEG  n02808440   9  27  63  48\n",
       "...             ...        ...  ..  ..  ..  ..\n",
       "9995  val_9995.JPEG  n03085013   0   0  63  63\n",
       "9996  val_9996.JPEG  n03444034   0   9  63  63\n",
       "9997  val_9997.JPEG  n03424325  10  10  38  42\n",
       "9998  val_9998.JPEG  n01629819  28  18  63  31\n",
       "9999  val_9999.JPEG  n02699494  17  33  28  39\n",
       "\n",
       "[10000 rows x 6 columns]"
      ]
     },
     "execution_count": 4,
     "metadata": {},
     "output_type": "execute_result"
    }
   ],
   "source": [
    "headers=['filename','label','2','3','4','5']\n",
    "data_val.columns=headers\n",
    "data_val"
   ]
  },
  {
   "cell_type": "code",
   "execution_count": 5,
   "id": "ea5c83c5",
   "metadata": {
    "id": "ea5c83c5",
    "outputId": "9c0947b9-24f2-4011-8c74-87fa3ed839ac"
   },
   "outputs": [
    {
     "data": {
      "text/plain": [
       "['n03201208',\n",
       " 'n04596742',\n",
       " 'n04532670',\n",
       " 'n03255030',\n",
       " 'n04399382',\n",
       " 'n02281406',\n",
       " 'n02480495',\n",
       " 'n09332890',\n",
       " 'n04376876',\n",
       " 'n04070727']"
      ]
     },
     "execution_count": 5,
     "metadata": {},
     "output_type": "execute_result"
    }
   ],
   "source": [
    "#selecting 10 random classes from the train folder and storing the labels in a list\n",
    "train_labels_list=[]\n",
    "i=0\n",
    "if not os.path.isdir('./tiny-imagenet-200/train_10'):\n",
    "    os.mkdir(\"./tiny-imagenet-200/validation_10/\")\n",
    "    os.mkdir(\"./tiny-imagenet-200/train_10/\")\n",
    "    while i<10:\n",
    "        x=random.choice(os.listdir(\"./tiny-imagenet-200/train/\"))\n",
    "        if(x in train_labels_list):\n",
    "            i=i-1\n",
    "        else:\n",
    "            train_labels_list.append(x)\n",
    "        i=i+1\n",
    "train_labels_list"
   ]
  },
  {
   "cell_type": "code",
   "execution_count": 6,
   "id": "9c746b98",
   "metadata": {
    "id": "9c746b98",
    "outputId": "7f4f84f9-3284-48dc-cfc8-dbbc97d95bf0"
   },
   "outputs": [
    {
     "data": {
      "text/plain": [
       "array(['n04070727', 'n04399382', 'n04532670', 'n04376876', 'n04596742',\n",
       "       'n03201208', 'n02480495', 'n02281406', 'n09332890', 'n03255030'],\n",
       "      dtype=object)"
      ]
     },
     "execution_count": 6,
     "metadata": {},
     "output_type": "execute_result"
    }
   ],
   "source": [
    "#select the same labeled folders from val folder as well\n",
    "data_val = data_val[data_val['label'].isin(train_labels_list)]\n",
    "data_val['label'].unique()"
   ]
  },
  {
   "cell_type": "code",
   "execution_count": 7,
   "id": "88e9b0d3",
   "metadata": {
    "id": "88e9b0d3",
    "outputId": "3b39baf3-51cf-43d5-f96c-e07f2aaf23e4"
   },
   "outputs": [
    {
     "data": {
      "text/html": [
       "<div>\n",
       "<style scoped>\n",
       "    .dataframe tbody tr th:only-of-type {\n",
       "        vertical-align: middle;\n",
       "    }\n",
       "\n",
       "    .dataframe tbody tr th {\n",
       "        vertical-align: top;\n",
       "    }\n",
       "\n",
       "    .dataframe thead th {\n",
       "        text-align: right;\n",
       "    }\n",
       "</style>\n",
       "<table border=\"1\" class=\"dataframe\">\n",
       "  <thead>\n",
       "    <tr style=\"text-align: right;\">\n",
       "      <th></th>\n",
       "      <th>filename</th>\n",
       "      <th>label</th>\n",
       "      <th>2</th>\n",
       "      <th>3</th>\n",
       "      <th>4</th>\n",
       "      <th>5</th>\n",
       "    </tr>\n",
       "  </thead>\n",
       "  <tbody>\n",
       "    <tr>\n",
       "      <th>2</th>\n",
       "      <td>val_2.JPEG</td>\n",
       "      <td>n04070727</td>\n",
       "      <td>4</td>\n",
       "      <td>0</td>\n",
       "      <td>60</td>\n",
       "      <td>55</td>\n",
       "    </tr>\n",
       "    <tr>\n",
       "      <th>5</th>\n",
       "      <td>val_5.JPEG</td>\n",
       "      <td>n04399382</td>\n",
       "      <td>7</td>\n",
       "      <td>0</td>\n",
       "      <td>59</td>\n",
       "      <td>63</td>\n",
       "    </tr>\n",
       "    <tr>\n",
       "      <th>24</th>\n",
       "      <td>val_24.JPEG</td>\n",
       "      <td>n04532670</td>\n",
       "      <td>0</td>\n",
       "      <td>19</td>\n",
       "      <td>63</td>\n",
       "      <td>31</td>\n",
       "    </tr>\n",
       "    <tr>\n",
       "      <th>46</th>\n",
       "      <td>val_46.JPEG</td>\n",
       "      <td>n04376876</td>\n",
       "      <td>5</td>\n",
       "      <td>9</td>\n",
       "      <td>63</td>\n",
       "      <td>23</td>\n",
       "    </tr>\n",
       "    <tr>\n",
       "      <th>85</th>\n",
       "      <td>val_85.JPEG</td>\n",
       "      <td>n04399382</td>\n",
       "      <td>1</td>\n",
       "      <td>3</td>\n",
       "      <td>63</td>\n",
       "      <td>63</td>\n",
       "    </tr>\n",
       "    <tr>\n",
       "      <th>...</th>\n",
       "      <td>...</td>\n",
       "      <td>...</td>\n",
       "      <td>...</td>\n",
       "      <td>...</td>\n",
       "      <td>...</td>\n",
       "      <td>...</td>\n",
       "    </tr>\n",
       "    <tr>\n",
       "      <th>9826</th>\n",
       "      <td>val_9826.JPEG</td>\n",
       "      <td>n04532670</td>\n",
       "      <td>0</td>\n",
       "      <td>16</td>\n",
       "      <td>63</td>\n",
       "      <td>33</td>\n",
       "    </tr>\n",
       "    <tr>\n",
       "      <th>9859</th>\n",
       "      <td>val_9859.JPEG</td>\n",
       "      <td>n04070727</td>\n",
       "      <td>20</td>\n",
       "      <td>1</td>\n",
       "      <td>63</td>\n",
       "      <td>63</td>\n",
       "    </tr>\n",
       "    <tr>\n",
       "      <th>9877</th>\n",
       "      <td>val_9877.JPEG</td>\n",
       "      <td>n02480495</td>\n",
       "      <td>2</td>\n",
       "      <td>18</td>\n",
       "      <td>63</td>\n",
       "      <td>57</td>\n",
       "    </tr>\n",
       "    <tr>\n",
       "      <th>9879</th>\n",
       "      <td>val_9879.JPEG</td>\n",
       "      <td>n02480495</td>\n",
       "      <td>0</td>\n",
       "      <td>0</td>\n",
       "      <td>63</td>\n",
       "      <td>63</td>\n",
       "    </tr>\n",
       "    <tr>\n",
       "      <th>9942</th>\n",
       "      <td>val_9942.JPEG</td>\n",
       "      <td>n09332890</td>\n",
       "      <td>0</td>\n",
       "      <td>21</td>\n",
       "      <td>63</td>\n",
       "      <td>63</td>\n",
       "    </tr>\n",
       "  </tbody>\n",
       "</table>\n",
       "<p>500 rows × 6 columns</p>\n",
       "</div>"
      ],
      "text/plain": [
       "           filename      label   2   3   4   5\n",
       "2        val_2.JPEG  n04070727   4   0  60  55\n",
       "5        val_5.JPEG  n04399382   7   0  59  63\n",
       "24      val_24.JPEG  n04532670   0  19  63  31\n",
       "46      val_46.JPEG  n04376876   5   9  63  23\n",
       "85      val_85.JPEG  n04399382   1   3  63  63\n",
       "...             ...        ...  ..  ..  ..  ..\n",
       "9826  val_9826.JPEG  n04532670   0  16  63  33\n",
       "9859  val_9859.JPEG  n04070727  20   1  63  63\n",
       "9877  val_9877.JPEG  n02480495   2  18  63  57\n",
       "9879  val_9879.JPEG  n02480495   0   0  63  63\n",
       "9942  val_9942.JPEG  n09332890   0  21  63  63\n",
       "\n",
       "[500 rows x 6 columns]"
      ]
     },
     "execution_count": 7,
     "metadata": {},
     "output_type": "execute_result"
    }
   ],
   "source": [
    "data_val"
   ]
  },
  {
   "cell_type": "code",
   "execution_count": 8,
   "id": "403b7b5f",
   "metadata": {
    "id": "403b7b5f"
   },
   "outputs": [],
   "source": [
    "#make folders for the selected labels and put the images in a new folder validation_10\n",
    "for i in train_labels_list:\n",
    "    path = os.path.join(\"./tiny-imagenet-200/validation_10/\", i)\n",
    "    os.mkdir(path) "
   ]
  },
  {
   "cell_type": "code",
   "execution_count": 9,
   "id": "4dcf700a",
   "metadata": {
    "id": "4dcf700a"
   },
   "outputs": [],
   "source": [
    "for index, row in data_val.iterrows():\n",
    "    src = os.path.join(\"./tiny-imagenet-200/val/images/\", row['filename'])\n",
    "    dst = os.path.join(\"./tiny-imagenet-200/validation_10/\", row['label'])\n",
    "    shutil.copy(src, dst)"
   ]
  },
  {
   "cell_type": "code",
   "execution_count": 10,
   "id": "0b4f5daf",
   "metadata": {
    "id": "0b4f5daf"
   },
   "outputs": [],
   "source": [
    "for i in train_labels_list:\n",
    "    src = os.path.join(\"./tiny-imagenet-200/train/\", i)\n",
    "    dst = os.path.join(\"./tiny-imagenet-200/train_10/\", i)\n",
    "    shutil.copytree(src, dst) "
   ]
  },
  {
   "cell_type": "code",
   "execution_count": 11,
   "id": "e869b998",
   "metadata": {
    "id": "e869b998"
   },
   "outputs": [],
   "source": [
    "from torchvision import datasets\n",
    "\n",
    "def make_dl(data, name, transform):\n",
    "    if transform is None:\n",
    "        dataset = datasets.ImageFolder(data, transform=T.ToTensor())\n",
    "    else:\n",
    "        dataset = datasets.ImageFolder(data, transform=transform)\n",
    "\n",
    "    if use_cuda:\n",
    "        kwargs = {\"pin_memory\": True, \"num_workers\": 1}\n",
    "    else:\n",
    "        kwargs = {}\n",
    "\n",
    "    dl = DataLoader(dataset, batch_size=32, \n",
    "                        shuffle=(name==\"train\"), \n",
    "                        **kwargs)\n",
    "    \n",
    "    return dl"
   ]
  },
  {
   "cell_type": "code",
   "execution_count": 12,
   "id": "87974faa",
   "metadata": {
    "id": "87974faa"
   },
   "outputs": [],
   "source": [
    "transorms = T.Compose([\n",
    "                T.Resize(256), # Resize images to 256 x 256\n",
    "                T.CenterCrop(224), # Center crop image\n",
    "                T.RandomHorizontalFlip(),\n",
    "                T.ToTensor(),  # Converting cropped images to tensors\n",
    "                T.Normalize(mean=[0.485, 0.456, 0.406], \n",
    "                            std=[0.229, 0.224, 0.225])\n",
    "])\n",
    "\n",
    "use_cuda = torch.cuda.is_available()\n",
    "device = torch.device(\"cuda\" if use_cuda else \"cpu\")\n",
    "\n",
    "train_loader = make_dl(\"./tiny-imagenet-200/train_10/\", \"train_10\",\n",
    "                                  transform=transorms)\n",
    "\n",
    "val_loader = make_dl(\"./tiny-imagenet-200/validation_10/\", \"val_10\",\n",
    "                                 transform=transorms)"
   ]
  },
  {
   "cell_type": "markdown",
   "id": "3f3614c3",
   "metadata": {
    "id": "3f3614c3"
   },
   "source": [
    "## AlexNet"
   ]
  },
  {
   "cell_type": "code",
   "execution_count": 13,
   "id": "5e851af8",
   "metadata": {
    "id": "5e851af8",
    "outputId": "c8341846-a5cc-42f0-df6f-1e03dbd265e8"
   },
   "outputs": [
    {
     "name": "stderr",
     "output_type": "stream",
     "text": [
      "Using cache found in /home/sid/.cache/torch/hub/pytorch_vision_v0.6.0\n"
     ]
    }
   ],
   "source": [
    "AlexNet_model = torch.hub.load('pytorch/vision:v0.6.0', 'alexnet', pretrained=False)\n",
    "AlexNet_model.classifier[4] = nn.Linear(4096,1024)\n",
    "AlexNet_model.classifier[6] = nn.Linear(1024,10)"
   ]
  },
  {
   "cell_type": "code",
   "execution_count": 14,
   "id": "5f16ebb8",
   "metadata": {
    "id": "5f16ebb8",
    "outputId": "639cd75c-8794-48a4-bda5-a4e778faae56"
   },
   "outputs": [
    {
     "data": {
      "text/plain": [
       "AlexNet(\n",
       "  (features): Sequential(\n",
       "    (0): Conv2d(3, 64, kernel_size=(11, 11), stride=(4, 4), padding=(2, 2))\n",
       "    (1): ReLU(inplace=True)\n",
       "    (2): MaxPool2d(kernel_size=3, stride=2, padding=0, dilation=1, ceil_mode=False)\n",
       "    (3): Conv2d(64, 192, kernel_size=(5, 5), stride=(1, 1), padding=(2, 2))\n",
       "    (4): ReLU(inplace=True)\n",
       "    (5): MaxPool2d(kernel_size=3, stride=2, padding=0, dilation=1, ceil_mode=False)\n",
       "    (6): Conv2d(192, 384, kernel_size=(3, 3), stride=(1, 1), padding=(1, 1))\n",
       "    (7): ReLU(inplace=True)\n",
       "    (8): Conv2d(384, 256, kernel_size=(3, 3), stride=(1, 1), padding=(1, 1))\n",
       "    (9): ReLU(inplace=True)\n",
       "    (10): Conv2d(256, 256, kernel_size=(3, 3), stride=(1, 1), padding=(1, 1))\n",
       "    (11): ReLU(inplace=True)\n",
       "    (12): MaxPool2d(kernel_size=3, stride=2, padding=0, dilation=1, ceil_mode=False)\n",
       "  )\n",
       "  (avgpool): AdaptiveAvgPool2d(output_size=(6, 6))\n",
       "  (classifier): Sequential(\n",
       "    (0): Dropout(p=0.5, inplace=False)\n",
       "    (1): Linear(in_features=9216, out_features=4096, bias=True)\n",
       "    (2): ReLU(inplace=True)\n",
       "    (3): Dropout(p=0.5, inplace=False)\n",
       "    (4): Linear(in_features=4096, out_features=1024, bias=True)\n",
       "    (5): ReLU(inplace=True)\n",
       "    (6): Linear(in_features=1024, out_features=10, bias=True)\n",
       "  )\n",
       ")"
      ]
     },
     "execution_count": 14,
     "metadata": {},
     "output_type": "execute_result"
    }
   ],
   "source": [
    "AlexNet_model.to(device)"
   ]
  },
  {
   "cell_type": "code",
   "execution_count": 15,
   "id": "88db659c",
   "metadata": {
    "id": "88db659c"
   },
   "outputs": [],
   "source": [
    "lr = 0.001                # Learning rate\n",
    "num_epochs = 10           # Number of epochs\n",
    "log_interval = 300        # Number of iterations before logging\n",
    "\n",
    "loss_func = nn.CrossEntropyLoss()\n",
    "\n",
    "optimizer = optim.SGD(AlexNet_model.parameters(), lr=0.001, momentum=0.9)   #SGD optimizer"
   ]
  },
  {
   "cell_type": "code",
   "execution_count": 16,
   "id": "42681e69",
   "metadata": {
    "id": "42681e69"
   },
   "outputs": [],
   "source": [
    "trainer = create_supervised_trainer(AlexNet_model, optimizer, loss_func, device=device)\n",
    "ProgressBar(persist=True).attach(trainer, output_transform=lambda x: {\"Batch Loss\": x})"
   ]
  },
  {
   "cell_type": "code",
   "execution_count": 17,
   "id": "ac1a348f",
   "metadata": {
    "id": "ac1a348f",
    "outputId": "7c914d4e-bc57-4a24-c640-8018ba8f2340"
   },
   "outputs": [
    {
     "name": "stdout",
     "output_type": "stream",
     "text": [
      "----------------------------------------------------------------\n",
      "        Layer (type)               Output Shape         Param #\n",
      "================================================================\n",
      "            Conv2d-1           [-1, 64, 55, 55]          23,296\n",
      "              ReLU-2           [-1, 64, 55, 55]               0\n",
      "         MaxPool2d-3           [-1, 64, 27, 27]               0\n",
      "            Conv2d-4          [-1, 192, 27, 27]         307,392\n",
      "              ReLU-5          [-1, 192, 27, 27]               0\n",
      "         MaxPool2d-6          [-1, 192, 13, 13]               0\n",
      "            Conv2d-7          [-1, 384, 13, 13]         663,936\n",
      "              ReLU-8          [-1, 384, 13, 13]               0\n",
      "            Conv2d-9          [-1, 256, 13, 13]         884,992\n",
      "             ReLU-10          [-1, 256, 13, 13]               0\n",
      "           Conv2d-11          [-1, 256, 13, 13]         590,080\n",
      "             ReLU-12          [-1, 256, 13, 13]               0\n",
      "        MaxPool2d-13            [-1, 256, 6, 6]               0\n",
      "AdaptiveAvgPool2d-14            [-1, 256, 6, 6]               0\n",
      "          Dropout-15                 [-1, 9216]               0\n",
      "           Linear-16                 [-1, 4096]      37,752,832\n",
      "             ReLU-17                 [-1, 4096]               0\n",
      "          Dropout-18                 [-1, 4096]               0\n",
      "           Linear-19                 [-1, 1024]       4,195,328\n",
      "             ReLU-20                 [-1, 1024]               0\n",
      "           Linear-21                   [-1, 10]          10,250\n",
      "================================================================\n",
      "Total params: 44,428,106\n",
      "Trainable params: 44,428,106\n",
      "Non-trainable params: 0\n",
      "----------------------------------------------------------------\n",
      "Input size (MB): 0.57\n",
      "Forward/backward pass size (MB): 8.32\n",
      "Params size (MB): 169.48\n",
      "Estimated Total Size (MB): 178.38\n",
      "----------------------------------------------------------------\n"
     ]
    }
   ],
   "source": [
    "#model summary\n",
    "summary(AlexNet_model, (3, 224, 224))"
   ]
  },
  {
   "cell_type": "markdown",
   "id": "956591be",
   "metadata": {
    "id": "956591be"
   },
   "source": [
    "Number of parameters = 44,428,106"
   ]
  },
  {
   "cell_type": "code",
   "execution_count": 18,
   "id": "bfcfe6eb",
   "metadata": {
    "id": "bfcfe6eb"
   },
   "outputs": [],
   "source": [
    "# evaluation metrics\n",
    "metrics = {\n",
    "    \"accuracy\": Accuracy(), \n",
    "    \"loss\": Loss(loss_func),\n",
    "}"
   ]
  },
  {
   "cell_type": "code",
   "execution_count": 19,
   "id": "c6483dc4",
   "metadata": {
    "id": "c6483dc4"
   },
   "outputs": [],
   "source": [
    "# Evaluator for training data\n",
    "train_val = create_supervised_evaluator(AlexNet_model, metrics=metrics, device=device)\n",
    "\n",
    "# Evaluator for validation data\n",
    "test_val = create_supervised_evaluator(AlexNet_model, metrics=metrics, device=device)"
   ]
  },
  {
   "cell_type": "code",
   "execution_count": 20,
   "id": "8f8d4c4e",
   "metadata": {
    "id": "8f8d4c4e"
   },
   "outputs": [],
   "source": [
    "train_error=[]\n",
    "test_error=[]\n",
    "train_accuracy=[]\n",
    "test_accuracy=[]\n",
    "@trainer.on(Events.STARTED)\n",
    "def begin():\n",
    "    print(\"training started.....\")\n",
    "\n",
    "@trainer.on(Events.EPOCH_COMPLETED)\n",
    "def train_stat(trainer):\n",
    "    print(f\"Epoch - {trainer.state.epoch} and Loss - {trainer.state.output}\")\n",
    "    train_val.run(train_loader)\n",
    "    epoch = trainer.state.epoch\n",
    "    print(f\"Train error - {train_val.state.metrics['loss']}\")\n",
    "    print(f\"Train accuracy - {train_val.state.metrics['accuracy']}\")\n",
    "    train_error.append(train_val.state.metrics['loss'])\n",
    "    train_accuracy.append(train_val.state.metrics['accuracy'])\n",
    "\n",
    "\n",
    "@trainer.on(Events.EPOCH_COMPLETED)\n",
    "def test_stat(trainer):\n",
    "    test_val.run(val_loader)\n",
    "    epoch = trainer.state.epoch\n",
    "    print(f\"test error - {test_val.state.metrics['loss']}\")\n",
    "    print(f\"test accuracy - {test_val.state.metrics['accuracy']}\")\n",
    "    test_error.append(test_val.state.metrics['loss'])\n",
    "    test_accuracy.append(test_val.state.metrics['accuracy'])"
   ]
  },
  {
   "cell_type": "code",
   "execution_count": 21,
   "id": "3cee6474",
   "metadata": {
    "colab": {
     "referenced_widgets": [
      "8fe008ce997e43ab8b7307f270dbfe1b",
      "6c21ea527a444b1d93d36e6d91873aaa",
      "b0b203860a224f31ab0a9d044a9b541d",
      "7fe18b865a9640e2a850be69ef9cb6bf",
      "ccaae4036cfb4bc2a1f5cef799f07c8d",
      "f819717c71ca48cd9c93ba1683d04458",
      "ebac3e620a3145b0ae377538b40afe94",
      "8b50bc61a72a4644ad2d6c4d6b1dc44b",
      "b5e7faae43f346db93fc837104f9c1ff",
      "1ccbcdd44f8f4d65bac46b7470c552c0"
     ]
    },
    "id": "3cee6474",
    "outputId": "a0656a05-10ad-49e1-ec16-33e744dbe403"
   },
   "outputs": [
    {
     "name": "stdout",
     "output_type": "stream",
     "text": [
      "training started.....\n"
     ]
    },
    {
     "data": {
      "application/vnd.jupyter.widget-view+json": {
       "model_id": "4d6ac8a905fd44459476aafcaaf28b71",
       "version_major": 2,
       "version_minor": 0
      },
      "text/plain": [
       "[1/157]   1%|           [00:00<?]"
      ]
     },
     "metadata": {},
     "output_type": "display_data"
    },
    {
     "name": "stdout",
     "output_type": "stream",
     "text": [
      "Epoch - 1 and Loss - 2.3459689617156982\n",
      "Train error - 2.302578125\n",
      "Train accuracy - 0.1\n",
      "test error - 2.302557861328125\n",
      "test accuracy - 0.1\n"
     ]
    },
    {
     "data": {
      "application/vnd.jupyter.widget-view+json": {
       "model_id": "3b5d93aa5e104ef4864d91bf4c42b0b8",
       "version_major": 2,
       "version_minor": 0
      },
      "text/plain": [
       "[1/157]   1%|           [00:00<?]"
      ]
     },
     "metadata": {},
     "output_type": "display_data"
    },
    {
     "name": "stdout",
     "output_type": "stream",
     "text": [
      "Epoch - 2 and Loss - 2.3266286849975586\n",
      "Train error - 2.3024759765625\n",
      "Train accuracy - 0.106\n",
      "test error - 2.30246533203125\n",
      "test accuracy - 0.104\n"
     ]
    },
    {
     "data": {
      "application/vnd.jupyter.widget-view+json": {
       "model_id": "3f3c33a7ee2f46649d38440d362fdd44",
       "version_major": 2,
       "version_minor": 0
      },
      "text/plain": [
       "[1/157]   1%|           [00:00<?]"
      ]
     },
     "metadata": {},
     "output_type": "display_data"
    },
    {
     "name": "stdout",
     "output_type": "stream",
     "text": [
      "Epoch - 3 and Loss - 2.3139266967773438\n",
      "Train error - 2.3024572265625\n",
      "Train accuracy - 0.1\n",
      "test error - 2.302450439453125\n",
      "test accuracy - 0.1\n"
     ]
    },
    {
     "data": {
      "application/vnd.jupyter.widget-view+json": {
       "model_id": "78b21c45bd2e4252bd48579c65343178",
       "version_major": 2,
       "version_minor": 0
      },
      "text/plain": [
       "[1/157]   1%|           [00:00<?]"
      ]
     },
     "metadata": {},
     "output_type": "display_data"
    },
    {
     "name": "stdout",
     "output_type": "stream",
     "text": [
      "Epoch - 4 and Loss - 2.303494453430176\n",
      "Train error - 2.30247421875\n",
      "Train accuracy - 0.1\n",
      "test error - 2.302457763671875\n",
      "test accuracy - 0.1\n"
     ]
    },
    {
     "data": {
      "application/vnd.jupyter.widget-view+json": {
       "model_id": "9bdafb1947e14198923ec6358d4e6ce1",
       "version_major": 2,
       "version_minor": 0
      },
      "text/plain": [
       "[1/157]   1%|           [00:00<?]"
      ]
     },
     "metadata": {},
     "output_type": "display_data"
    },
    {
     "name": "stdout",
     "output_type": "stream",
     "text": [
      "Epoch - 5 and Loss - 2.2954204082489014\n",
      "Train error - 2.3025005859375\n",
      "Train accuracy - 0.1008\n",
      "test error - 2.30249462890625\n",
      "test accuracy - 0.1\n"
     ]
    },
    {
     "data": {
      "application/vnd.jupyter.widget-view+json": {
       "model_id": "c280550ee2be4bc290ba46c6c9b7cc5c",
       "version_major": 2,
       "version_minor": 0
      },
      "text/plain": [
       "[1/157]   1%|           [00:00<?]"
      ]
     },
     "metadata": {},
     "output_type": "display_data"
    },
    {
     "name": "stdout",
     "output_type": "stream",
     "text": [
      "Epoch - 6 and Loss - 2.286898136138916\n",
      "Train error - 2.302538671875\n",
      "Train accuracy - 0.1162\n",
      "test error - 2.30251904296875\n",
      "test accuracy - 0.126\n"
     ]
    },
    {
     "data": {
      "application/vnd.jupyter.widget-view+json": {
       "model_id": "603a6a88a6f84af184adfb87564d0bb1",
       "version_major": 2,
       "version_minor": 0
      },
      "text/plain": [
       "[1/157]   1%|           [00:00<?]"
      ]
     },
     "metadata": {},
     "output_type": "display_data"
    },
    {
     "name": "stdout",
     "output_type": "stream",
     "text": [
      "Epoch - 7 and Loss - 2.282398223876953\n",
      "Train error - 2.302562109375\n",
      "Train accuracy - 0.151\n",
      "test error - 2.302538330078125\n",
      "test accuracy - 0.164\n"
     ]
    },
    {
     "data": {
      "application/vnd.jupyter.widget-view+json": {
       "model_id": "ed8c0e8cb9fc42c397df1862525f6098",
       "version_major": 2,
       "version_minor": 0
      },
      "text/plain": [
       "[1/157]   1%|           [00:00<?]"
      ]
     },
     "metadata": {},
     "output_type": "display_data"
    },
    {
     "name": "stdout",
     "output_type": "stream",
     "text": [
      "Epoch - 8 and Loss - 2.2773561477661133\n",
      "Train error - 2.3025783203125\n",
      "Train accuracy - 0.1614\n",
      "test error - 2.302543701171875\n",
      "test accuracy - 0.166\n"
     ]
    },
    {
     "data": {
      "application/vnd.jupyter.widget-view+json": {
       "model_id": "1b1c5bf033f64e9ebcd7214a115aeff7",
       "version_major": 2,
       "version_minor": 0
      },
      "text/plain": [
       "[1/157]   1%|           [00:00<?]"
      ]
     },
     "metadata": {},
     "output_type": "display_data"
    },
    {
     "name": "stdout",
     "output_type": "stream",
     "text": [
      "Epoch - 9 and Loss - 2.2738189697265625\n",
      "Train error - 2.3025728515625\n",
      "Train accuracy - 0.1372\n",
      "test error - 2.302530029296875\n",
      "test accuracy - 0.148\n"
     ]
    },
    {
     "data": {
      "application/vnd.jupyter.widget-view+json": {
       "model_id": "8d0d5e6458d1473ca420af4026a7d0ef",
       "version_major": 2,
       "version_minor": 0
      },
      "text/plain": [
       "[1/157]   1%|           [00:00<?]"
      ]
     },
     "metadata": {},
     "output_type": "display_data"
    },
    {
     "name": "stdout",
     "output_type": "stream",
     "text": [
      "Epoch - 10 and Loss - 2.270381450653076\n",
      "Train error - 2.3025208984375\n",
      "Train accuracy - 0.1276\n",
      "test error - 2.302468505859375\n",
      "test accuracy - 0.142\n"
     ]
    },
    {
     "data": {
      "text/plain": [
       "State:\n",
       "\titeration: 1570\n",
       "\tepoch: 10\n",
       "\tepoch_length: 157\n",
       "\tmax_epochs: 10\n",
       "\toutput: 2.270381450653076\n",
       "\tbatch: <class 'list'>\n",
       "\tmetrics: <class 'dict'>\n",
       "\tdataloader: <class 'torch.utils.data.dataloader.DataLoader'>\n",
       "\tseed: <class 'NoneType'>\n",
       "\ttimes: <class 'dict'>"
      ]
     },
     "execution_count": 21,
     "metadata": {},
     "output_type": "execute_result"
    }
   ],
   "source": [
    "trainer.run(train_loader, max_epochs=num_epochs)"
   ]
  },
  {
   "cell_type": "markdown",
   "id": "63f91f23",
   "metadata": {
    "id": "63f91f23"
   },
   "source": [
    "#### Accuracy and loss of AlexNet"
   ]
  },
  {
   "cell_type": "code",
   "execution_count": 22,
   "id": "f4540e98",
   "metadata": {
    "id": "f4540e98",
    "outputId": "1d699d90-27e1-4131-f208-6b2decbcbbb9"
   },
   "outputs": [
    {
     "name": "stdout",
     "output_type": "stream",
     "text": [
      "{'accuracy': 0.142, 'loss': 2.302468505859375}\n"
     ]
    }
   ],
   "source": [
    "print(test_val.state.metrics)"
   ]
  },
  {
   "cell_type": "markdown",
   "id": "440ffe97",
   "metadata": {
    "id": "440ffe97"
   },
   "source": [
    "#### Accuracy and error plots"
   ]
  },
  {
   "cell_type": "code",
   "execution_count": 23,
   "id": "2377b414",
   "metadata": {
    "id": "2377b414",
    "outputId": "09bca6ed-59bb-45e9-f182-a85079c13941"
   },
   "outputs": [
    {
     "data": {
      "text/plain": [
       "[<matplotlib.lines.Line2D at 0x7f389e13e790>]"
      ]
     },
     "execution_count": 23,
     "metadata": {},
     "output_type": "execute_result"
    },
    {
     "data": {
      "image/png": "[encoded data removed]",
      "text/plain": [
       "<Figure size 432x288 with 1 Axes>"
      ]
     },
     "metadata": {
      "needs_background": "light"
     },
     "output_type": "display_data"
    }
   ],
   "source": [
    "plt.plot(train_accuracy)\n",
    "plt.plot(test_accuracy)"
   ]
  },
  {
   "cell_type": "code",
   "execution_count": 24,
   "id": "c161fd67",
   "metadata": {
    "id": "c161fd67",
    "outputId": "79f96230-d601-4dc5-b309-1247964d1eec"
   },
   "outputs": [
    {
     "data": {
      "text/plain": [
       "[<matplotlib.lines.Line2D at 0x7f389e031430>]"
      ]
     },
     "execution_count": 24,
     "metadata": {},
     "output_type": "execute_result"
    },
    {
     "data": {
      "image/png": "[encoded data removed]",
      "text/plain": [
       "<Figure size 432x288 with 1 Axes>"
      ]
     },
     "metadata": {
      "needs_background": "light"
     },
     "output_type": "display_data"
    }
   ],
   "source": [
    "plt.plot(train_error)\n",
    "plt.plot(test_error)"
   ]
  },
  {
   "cell_type": "markdown",
   "id": "19d51f9a",
   "metadata": {
    "id": "19d51f9a"
   },
   "source": [
    "## RESNET50"
   ]
  },
  {
   "cell_type": "code",
   "execution_count": 25,
   "id": "92378189",
   "metadata": {
    "id": "92378189"
   },
   "outputs": [],
   "source": [
    "import torchvision.models as models\n",
    "ResNet50_model =models.resnet50(pretrained=False)"
   ]
  },
  {
   "cell_type": "code",
   "execution_count": 26,
   "id": "7b2500f9",
   "metadata": {
    "id": "7b2500f9"
   },
   "outputs": [],
   "source": [
    "ResNet50_model = ResNet50_model.cuda() if device else ResNet50_model"
   ]
  },
  {
   "cell_type": "code",
   "execution_count": 27,
   "id": "902b8bac",
   "metadata": {
    "id": "902b8bac"
   },
   "outputs": [],
   "source": [
    "num_ftrs = ResNet50_model.fc.in_features\n",
    "ResNet50_model.fc = nn.Sequential(\n",
    "               nn.Linear(2048, 128),\n",
    "               nn.ReLU(inplace=True),\n",
    "               nn.Linear(128, 10)).to(device)\n",
    "ResNet50_model.fc = ResNet50_model.fc.cuda() if use_cuda else ResNet50_model.fc"
   ]
  },
  {
   "cell_type": "code",
   "execution_count": 28,
   "id": "e213deed",
   "metadata": {
    "id": "e213deed"
   },
   "outputs": [],
   "source": [
    "trainer = create_supervised_trainer(ResNet50_model, optimizer, loss_func, device=device)\n",
    "ProgressBar(persist=True).attach(trainer, output_transform=lambda x: {\"Batch Loss\": x})\n"
   ]
  },
  {
   "cell_type": "code",
   "execution_count": 29,
   "id": "af94c9c8",
   "metadata": {
    "id": "af94c9c8"
   },
   "outputs": [],
   "source": [
    "train_val = create_supervised_evaluator(ResNet50_model, metrics=metrics, device=device)\n",
    "test_val = create_supervised_evaluator(ResNet50_model, metrics=metrics, device=device)"
   ]
  },
  {
   "cell_type": "code",
   "execution_count": 30,
   "id": "4d379b01",
   "metadata": {
    "id": "4d379b01"
   },
   "outputs": [],
   "source": [
    "train_error=[]\n",
    "test_error=[]\n",
    "train_accuracy=[]\n",
    "test_accuracy=[]\n",
    "\n",
    "@trainer.on(Events.STARTED)\n",
    "def begin():\n",
    "    print(\"training started.....\")\n",
    "\n",
    "@trainer.on(Events.EPOCH_COMPLETED)\n",
    "def train_stat(trainer):\n",
    "    print(f\"Epoch - {trainer.state.epoch} and Loss - {trainer.state.output}\")\n",
    "    train_val.run(train_loader)\n",
    "    epoch = trainer.state.epoch\n",
    "    print(f\"Train error - {train_val.state.metrics['loss']}\")\n",
    "    print(f\"Train accuracy - {train_val.state.metrics['accuracy']}\")\n",
    "    train_error.append(train_val.state.metrics['loss'])\n",
    "    train_accuracy.append(train_val.state.metrics['accuracy'])\n",
    "\n",
    "# Evaluate and print validation set metrics\n",
    "@trainer.on(Events.EPOCH_COMPLETED)\n",
    "def test_stat(trainer):\n",
    "    test_val.run(val_loader)\n",
    "    epoch = trainer.state.epoch\n",
    "    print(f\"test error - {test_val.state.metrics['loss']}\")\n",
    "    print(f\"test accuracy - {test_val.state.metrics['accuracy']}\")\n",
    "    test_error.append(test_val.state.metrics['loss'])\n",
    "    test_accuracy.append(test_val.state.metrics['accuracy'])"
   ]
  },
  {
   "cell_type": "code",
   "execution_count": 31,
   "id": "a0ff0383",
   "metadata": {
    "id": "a0ff0383",
    "outputId": "ac529c52-c08e-45fb-abd5-fa3f50be1a59"
   },
   "outputs": [
    {
     "name": "stdout",
     "output_type": "stream",
     "text": [
      "----------------------------------------------------------------\n",
      "        Layer (type)               Output Shape         Param #\n",
      "================================================================\n",
      "            Conv2d-1         [-1, 64, 112, 112]           9,408\n",
      "       BatchNorm2d-2         [-1, 64, 112, 112]             128\n",
      "              ReLU-3         [-1, 64, 112, 112]               0\n",
      "         MaxPool2d-4           [-1, 64, 56, 56]               0\n",
      "            Conv2d-5           [-1, 64, 56, 56]           4,096\n",
      "       BatchNorm2d-6           [-1, 64, 56, 56]             128\n",
      "              ReLU-7           [-1, 64, 56, 56]               0\n",
      "            Conv2d-8           [-1, 64, 56, 56]          36,864\n",
      "       BatchNorm2d-9           [-1, 64, 56, 56]             128\n",
      "             ReLU-10           [-1, 64, 56, 56]               0\n",
      "           Conv2d-11          [-1, 256, 56, 56]          16,384\n",
      "      BatchNorm2d-12          [-1, 256, 56, 56]             512\n",
      "           Conv2d-13          [-1, 256, 56, 56]          16,384\n",
      "      BatchNorm2d-14          [-1, 256, 56, 56]             512\n",
      "             ReLU-15          [-1, 256, 56, 56]               0\n",
      "       Bottleneck-16          [-1, 256, 56, 56]               0\n",
      "           Conv2d-17           [-1, 64, 56, 56]          16,384\n",
      "      BatchNorm2d-18           [-1, 64, 56, 56]             128\n",
      "             ReLU-19           [-1, 64, 56, 56]               0\n",
      "           Conv2d-20           [-1, 64, 56, 56]          36,864\n",
      "      BatchNorm2d-21           [-1, 64, 56, 56]             128\n",
      "             ReLU-22           [-1, 64, 56, 56]               0\n",
      "           Conv2d-23          [-1, 256, 56, 56]          16,384\n",
      "      BatchNorm2d-24          [-1, 256, 56, 56]             512\n",
      "             ReLU-25          [-1, 256, 56, 56]               0\n",
      "       Bottleneck-26          [-1, 256, 56, 56]               0\n",
      "           Conv2d-27           [-1, 64, 56, 56]          16,384\n",
      "      BatchNorm2d-28           [-1, 64, 56, 56]             128\n",
      "             ReLU-29           [-1, 64, 56, 56]               0\n",
      "           Conv2d-30           [-1, 64, 56, 56]          36,864\n",
      "      BatchNorm2d-31           [-1, 64, 56, 56]             128\n",
      "             ReLU-32           [-1, 64, 56, 56]               0\n",
      "           Conv2d-33          [-1, 256, 56, 56]          16,384\n",
      "      BatchNorm2d-34          [-1, 256, 56, 56]             512\n",
      "             ReLU-35          [-1, 256, 56, 56]               0\n",
      "       Bottleneck-36          [-1, 256, 56, 56]               0\n",
      "           Conv2d-37          [-1, 128, 56, 56]          32,768\n",
      "      BatchNorm2d-38          [-1, 128, 56, 56]             256\n",
      "             ReLU-39          [-1, 128, 56, 56]               0\n",
      "           Conv2d-40          [-1, 128, 28, 28]         147,456\n",
      "      BatchNorm2d-41          [-1, 128, 28, 28]             256\n",
      "             ReLU-42          [-1, 128, 28, 28]               0\n",
      "           Conv2d-43          [-1, 512, 28, 28]          65,536\n",
      "      BatchNorm2d-44          [-1, 512, 28, 28]           1,024\n",
      "           Conv2d-45          [-1, 512, 28, 28]         131,072\n",
      "      BatchNorm2d-46          [-1, 512, 28, 28]           1,024\n",
      "             ReLU-47          [-1, 512, 28, 28]               0\n",
      "       Bottleneck-48          [-1, 512, 28, 28]               0\n",
      "           Conv2d-49          [-1, 128, 28, 28]          65,536\n",
      "      BatchNorm2d-50          [-1, 128, 28, 28]             256\n",
      "             ReLU-51          [-1, 128, 28, 28]               0\n",
      "           Conv2d-52          [-1, 128, 28, 28]         147,456\n",
      "      BatchNorm2d-53          [-1, 128, 28, 28]             256\n",
      "             ReLU-54          [-1, 128, 28, 28]               0\n",
      "           Conv2d-55          [-1, 512, 28, 28]          65,536\n",
      "      BatchNorm2d-56          [-1, 512, 28, 28]           1,024\n",
      "             ReLU-57          [-1, 512, 28, 28]               0\n",
      "       Bottleneck-58          [-1, 512, 28, 28]               0\n",
      "           Conv2d-59          [-1, 128, 28, 28]          65,536\n",
      "      BatchNorm2d-60          [-1, 128, 28, 28]             256\n",
      "             ReLU-61          [-1, 128, 28, 28]               0\n",
      "           Conv2d-62          [-1, 128, 28, 28]         147,456\n",
      "      BatchNorm2d-63          [-1, 128, 28, 28]             256\n",
      "             ReLU-64          [-1, 128, 28, 28]               0\n",
      "           Conv2d-65          [-1, 512, 28, 28]          65,536\n",
      "      BatchNorm2d-66          [-1, 512, 28, 28]           1,024\n",
      "             ReLU-67          [-1, 512, 28, 28]               0\n",
      "       Bottleneck-68          [-1, 512, 28, 28]               0\n",
      "           Conv2d-69          [-1, 128, 28, 28]          65,536\n",
      "      BatchNorm2d-70          [-1, 128, 28, 28]             256\n",
      "             ReLU-71          [-1, 128, 28, 28]               0\n",
      "           Conv2d-72          [-1, 128, 28, 28]         147,456\n",
      "      BatchNorm2d-73          [-1, 128, 28, 28]             256\n",
      "             ReLU-74          [-1, 128, 28, 28]               0\n",
      "           Conv2d-75          [-1, 512, 28, 28]          65,536\n",
      "      BatchNorm2d-76          [-1, 512, 28, 28]           1,024\n",
      "             ReLU-77          [-1, 512, 28, 28]               0\n",
      "       Bottleneck-78          [-1, 512, 28, 28]               0\n",
      "           Conv2d-79          [-1, 256, 28, 28]         131,072\n",
      "      BatchNorm2d-80          [-1, 256, 28, 28]             512\n",
      "             ReLU-81          [-1, 256, 28, 28]               0\n",
      "           Conv2d-82          [-1, 256, 14, 14]         589,824\n",
      "      BatchNorm2d-83          [-1, 256, 14, 14]             512\n",
      "             ReLU-84          [-1, 256, 14, 14]               0\n",
      "           Conv2d-85         [-1, 1024, 14, 14]         262,144\n",
      "      BatchNorm2d-86         [-1, 1024, 14, 14]           2,048\n",
      "           Conv2d-87         [-1, 1024, 14, 14]         524,288\n",
      "      BatchNorm2d-88         [-1, 1024, 14, 14]           2,048\n",
      "             ReLU-89         [-1, 1024, 14, 14]               0\n",
      "       Bottleneck-90         [-1, 1024, 14, 14]               0\n",
      "           Conv2d-91          [-1, 256, 14, 14]         262,144\n",
      "      BatchNorm2d-92          [-1, 256, 14, 14]             512\n",
      "             ReLU-93          [-1, 256, 14, 14]               0\n",
      "           Conv2d-94          [-1, 256, 14, 14]         589,824\n",
      "      BatchNorm2d-95          [-1, 256, 14, 14]             512\n",
      "             ReLU-96          [-1, 256, 14, 14]               0\n",
      "           Conv2d-97         [-1, 1024, 14, 14]         262,144\n",
      "      BatchNorm2d-98         [-1, 1024, 14, 14]           2,048\n",
      "             ReLU-99         [-1, 1024, 14, 14]               0\n",
      "      Bottleneck-100         [-1, 1024, 14, 14]               0\n",
      "          Conv2d-101          [-1, 256, 14, 14]         262,144\n",
      "     BatchNorm2d-102          [-1, 256, 14, 14]             512\n",
      "            ReLU-103          [-1, 256, 14, 14]               0\n",
      "          Conv2d-104          [-1, 256, 14, 14]         589,824\n",
      "     BatchNorm2d-105          [-1, 256, 14, 14]             512\n",
      "            ReLU-106          [-1, 256, 14, 14]               0\n",
      "          Conv2d-107         [-1, 1024, 14, 14]         262,144\n",
      "     BatchNorm2d-108         [-1, 1024, 14, 14]           2,048\n",
      "            ReLU-109         [-1, 1024, 14, 14]               0\n",
      "      Bottleneck-110         [-1, 1024, 14, 14]               0\n",
      "          Conv2d-111          [-1, 256, 14, 14]         262,144\n",
      "     BatchNorm2d-112          [-1, 256, 14, 14]             512\n",
      "            ReLU-113          [-1, 256, 14, 14]               0\n",
      "          Conv2d-114          [-1, 256, 14, 14]         589,824\n",
      "     BatchNorm2d-115          [-1, 256, 14, 14]             512\n",
      "            ReLU-116          [-1, 256, 14, 14]               0\n",
      "          Conv2d-117         [-1, 1024, 14, 14]         262,144\n",
      "     BatchNorm2d-118         [-1, 1024, 14, 14]           2,048\n",
      "            ReLU-119         [-1, 1024, 14, 14]               0\n",
      "      Bottleneck-120         [-1, 1024, 14, 14]               0\n",
      "          Conv2d-121          [-1, 256, 14, 14]         262,144\n",
      "     BatchNorm2d-122          [-1, 256, 14, 14]             512\n",
      "            ReLU-123          [-1, 256, 14, 14]               0\n",
      "          Conv2d-124          [-1, 256, 14, 14]         589,824\n",
      "     BatchNorm2d-125          [-1, 256, 14, 14]             512\n",
      "            ReLU-126          [-1, 256, 14, 14]               0\n",
      "          Conv2d-127         [-1, 1024, 14, 14]         262,144\n",
      "     BatchNorm2d-128         [-1, 1024, 14, 14]           2,048\n",
      "            ReLU-129         [-1, 1024, 14, 14]               0\n",
      "      Bottleneck-130         [-1, 1024, 14, 14]               0\n",
      "          Conv2d-131          [-1, 256, 14, 14]         262,144\n",
      "     BatchNorm2d-132          [-1, 256, 14, 14]             512\n",
      "            ReLU-133          [-1, 256, 14, 14]               0\n",
      "          Conv2d-134          [-1, 256, 14, 14]         589,824\n",
      "     BatchNorm2d-135          [-1, 256, 14, 14]             512\n",
      "            ReLU-136          [-1, 256, 14, 14]               0\n",
      "          Conv2d-137         [-1, 1024, 14, 14]         262,144\n",
      "     BatchNorm2d-138         [-1, 1024, 14, 14]           2,048\n",
      "            ReLU-139         [-1, 1024, 14, 14]               0\n",
      "      Bottleneck-140         [-1, 1024, 14, 14]               0\n",
      "          Conv2d-141          [-1, 512, 14, 14]         524,288\n",
      "     BatchNorm2d-142          [-1, 512, 14, 14]           1,024\n",
      "            ReLU-143          [-1, 512, 14, 14]               0\n",
      "          Conv2d-144            [-1, 512, 7, 7]       2,359,296\n",
      "     BatchNorm2d-145            [-1, 512, 7, 7]           1,024\n",
      "            ReLU-146            [-1, 512, 7, 7]               0\n",
      "          Conv2d-147           [-1, 2048, 7, 7]       1,048,576\n",
      "     BatchNorm2d-148           [-1, 2048, 7, 7]           4,096\n",
      "          Conv2d-149           [-1, 2048, 7, 7]       2,097,152\n",
      "     BatchNorm2d-150           [-1, 2048, 7, 7]           4,096\n",
      "            ReLU-151           [-1, 2048, 7, 7]               0\n",
      "      Bottleneck-152           [-1, 2048, 7, 7]               0\n",
      "          Conv2d-153            [-1, 512, 7, 7]       1,048,576\n",
      "     BatchNorm2d-154            [-1, 512, 7, 7]           1,024\n",
      "            ReLU-155            [-1, 512, 7, 7]               0\n",
      "          Conv2d-156            [-1, 512, 7, 7]       2,359,296\n",
      "     BatchNorm2d-157            [-1, 512, 7, 7]           1,024\n",
      "            ReLU-158            [-1, 512, 7, 7]               0\n",
      "          Conv2d-159           [-1, 2048, 7, 7]       1,048,576\n",
      "     BatchNorm2d-160           [-1, 2048, 7, 7]           4,096\n",
      "            ReLU-161           [-1, 2048, 7, 7]               0\n",
      "      Bottleneck-162           [-1, 2048, 7, 7]               0\n",
      "          Conv2d-163            [-1, 512, 7, 7]       1,048,576\n",
      "     BatchNorm2d-164            [-1, 512, 7, 7]           1,024\n",
      "            ReLU-165            [-1, 512, 7, 7]               0\n",
      "          Conv2d-166            [-1, 512, 7, 7]       2,359,296\n",
      "     BatchNorm2d-167            [-1, 512, 7, 7]           1,024\n",
      "            ReLU-168            [-1, 512, 7, 7]               0\n",
      "          Conv2d-169           [-1, 2048, 7, 7]       1,048,576\n",
      "     BatchNorm2d-170           [-1, 2048, 7, 7]           4,096\n",
      "            ReLU-171           [-1, 2048, 7, 7]               0\n",
      "      Bottleneck-172           [-1, 2048, 7, 7]               0\n",
      "AdaptiveAvgPool2d-173           [-1, 2048, 1, 1]               0\n",
      "          Linear-174                  [-1, 128]         262,272\n",
      "            ReLU-175                  [-1, 128]               0\n",
      "          Linear-176                   [-1, 10]           1,290\n",
      "================================================================\n",
      "Total params: 23,771,594\n",
      "Trainable params: 23,771,594\n",
      "Non-trainable params: 0\n",
      "----------------------------------------------------------------\n",
      "Input size (MB): 0.57\n",
      "Forward/backward pass size (MB): 286.55\n",
      "Params size (MB): 90.68\n",
      "Estimated Total Size (MB): 377.81\n",
      "----------------------------------------------------------------\n"
     ]
    }
   ],
   "source": [
    "summary(ResNet50_model, (3, 224, 224))"
   ]
  },
  {
   "cell_type": "markdown",
   "id": "0a50aed7",
   "metadata": {
    "id": "0a50aed7"
   },
   "source": [
    "Number of parameters = 44,428,106"
   ]
  },
  {
   "cell_type": "code",
   "execution_count": 32,
   "id": "9330e441",
   "metadata": {
    "id": "9330e441",
    "outputId": "c3650bf3-2ea1-4e2d-a899-0e65fb72e327"
   },
   "outputs": [
    {
     "name": "stdout",
     "output_type": "stream",
     "text": [
      "training started.....\n"
     ]
    },
    {
     "data": {
      "application/vnd.jupyter.widget-view+json": {
       "model_id": "c59e5c700c764291a719b90adb435aa4",
       "version_major": 2,
       "version_minor": 0
      },
      "text/plain": [
       "[1/157]   1%|           [00:00<?]"
      ]
     },
     "metadata": {},
     "output_type": "display_data"
    },
    {
     "name": "stdout",
     "output_type": "stream",
     "text": [
      "Epoch - 1 and Loss - 2.4946014881134033\n",
      "Train error - 2.3342271484375\n",
      "Train accuracy - 0.0974\n",
      "test error - 2.329771728515625\n",
      "test accuracy - 0.098\n"
     ]
    },
    {
     "data": {
      "application/vnd.jupyter.widget-view+json": {
       "model_id": "cd9bb709cf6848c3956afe302dd82a7e",
       "version_major": 2,
       "version_minor": 0
      },
      "text/plain": [
       "[1/157]   1%|           [00:00<?]"
      ]
     },
     "metadata": {},
     "output_type": "display_data"
    },
    {
     "name": "stdout",
     "output_type": "stream",
     "text": [
      "Epoch - 2 and Loss - 2.4940717220306396\n",
      "Train error - 2.335139453125\n",
      "Train accuracy - 0.0972\n",
      "test error - 2.329457275390625\n",
      "test accuracy - 0.088\n"
     ]
    },
    {
     "data": {
      "application/vnd.jupyter.widget-view+json": {
       "model_id": "ed5f8b455067425fb05f82133dec0a9a",
       "version_major": 2,
       "version_minor": 0
      },
      "text/plain": [
       "[1/157]   1%|           [00:00<?]"
      ]
     },
     "metadata": {},
     "output_type": "display_data"
    },
    {
     "name": "stdout",
     "output_type": "stream",
     "text": [
      "Epoch - 3 and Loss - 2.4893014430999756\n",
      "Train error - 2.3329740234375\n",
      "Train accuracy - 0.0954\n",
      "test error - 2.328405517578125\n",
      "test accuracy - 0.094\n"
     ]
    },
    {
     "data": {
      "application/vnd.jupyter.widget-view+json": {
       "model_id": "dc361c93327548ec8dc5c8eec32de2fc",
       "version_major": 2,
       "version_minor": 0
      },
      "text/plain": [
       "[1/157]   1%|           [00:00<?]"
      ]
     },
     "metadata": {},
     "output_type": "display_data"
    },
    {
     "name": "stdout",
     "output_type": "stream",
     "text": [
      "Epoch - 4 and Loss - 2.4926133155822754\n",
      "Train error - 2.3351970703125\n",
      "Train accuracy - 0.0978\n",
      "test error - 2.3275546875\n",
      "test accuracy - 0.096\n"
     ]
    },
    {
     "data": {
      "application/vnd.jupyter.widget-view+json": {
       "model_id": "d9a12d29dfb8455a8fd2c172cd9ee7a3",
       "version_major": 2,
       "version_minor": 0
      },
      "text/plain": [
       "[1/157]   1%|           [00:00<?]"
      ]
     },
     "metadata": {},
     "output_type": "display_data"
    },
    {
     "name": "stdout",
     "output_type": "stream",
     "text": [
      "Epoch - 5 and Loss - 2.4900317192077637\n",
      "Train error - 2.334038671875\n",
      "Train accuracy - 0.099\n",
      "test error - 2.330614501953125\n",
      "test accuracy - 0.092\n"
     ]
    },
    {
     "data": {
      "text/plain": [
       "State:\n",
       "\titeration: 785\n",
       "\tepoch: 5\n",
       "\tepoch_length: 157\n",
       "\tmax_epochs: 5\n",
       "\toutput: 2.4900317192077637\n",
       "\tbatch: <class 'list'>\n",
       "\tmetrics: <class 'dict'>\n",
       "\tdataloader: <class 'torch.utils.data.dataloader.DataLoader'>\n",
       "\tseed: <class 'NoneType'>\n",
       "\ttimes: <class 'dict'>"
      ]
     },
     "execution_count": 32,
     "metadata": {},
     "output_type": "execute_result"
    }
   ],
   "source": [
    "# Start training\n",
    "trainer.run(train_loader, max_epochs=5)"
   ]
  },
  {
   "cell_type": "code",
   "execution_count": 33,
   "id": "62ea76bd",
   "metadata": {
    "id": "62ea76bd",
    "outputId": "eb559585-ca53-4283-b94b-8413368a63d4"
   },
   "outputs": [
    {
     "name": "stdout",
     "output_type": "stream",
     "text": [
      "{'accuracy': 0.092, 'loss': 2.330614501953125}\n"
     ]
    }
   ],
   "source": [
    "print(test_val.state.metrics)"
   ]
  },
  {
   "cell_type": "code",
   "execution_count": 34,
   "id": "32b3b231",
   "metadata": {
    "id": "32b3b231",
    "outputId": "86e515c1-6c4d-465c-fc06-1de056b5b41b"
   },
   "outputs": [
    {
     "data": {
      "text/plain": [
       "[<matplotlib.lines.Line2D at 0x7f389df7f0d0>]"
      ]
     },
     "execution_count": 34,
     "metadata": {},
     "output_type": "execute_result"
    },
    {
     "data": {
      "image/png": "[encoded data removed]",
      "text/plain": [
       "<Figure size 432x288 with 1 Axes>"
      ]
     },
     "metadata": {
      "needs_background": "light"
     },
     "output_type": "display_data"
    }
   ],
   "source": [
    "plt.plot(train_accuracy)\n",
    "plt.plot(test_accuracy)"
   ]
  },
  {
   "cell_type": "code",
   "execution_count": 35,
   "id": "0ece8a45",
   "metadata": {
    "id": "0ece8a45",
    "outputId": "26f8d44c-706b-406d-e524-46fc2323f3b7"
   },
   "outputs": [
    {
     "data": {
      "text/plain": [
       "[<matplotlib.lines.Line2D at 0x7f389f383d00>]"
      ]
     },
     "execution_count": 35,
     "metadata": {},
     "output_type": "execute_result"
    },
    {
     "data": {
      "image/png": "[encoded data removed]",
      "text/plain": [
       "<Figure size 432x288 with 1 Axes>"
      ]
     },
     "metadata": {
      "needs_background": "light"
     },
     "output_type": "display_data"
    }
   ],
   "source": [
    "plt.plot(train_error)\n",
    "plt.plot(test_error)"
   ]
  },
  {
   "cell_type": "markdown",
   "id": "b0d83095",
   "metadata": {
    "id": "b0d83095"
   },
   "source": [
    "### Comaprision of both the models"
   ]
  },
  {
   "cell_type": "markdown",
   "id": "e3709cb3",
   "metadata": {
    "id": "e3709cb3"
   },
   "source": [
    "As we can see , the accuracy of AlexNet is more than that of ResNet50.\n",
    "For the training loss to stabilize, ResNet50 takes longer time compared to ResNet - The number of epochs in ResNet50 is more than that of AlexNet and also the time tak"
   ]
  },
  {
   "cell_type": "markdown",
   "id": "18bbd10a",
   "metadata": {
    "id": "18bbd10a"
   },
   "source": [
    "# Question 2"
   ]
  },
  {
   "cell_type": "markdown",
   "id": "edc4b3ca",
   "metadata": {
    "id": "edc4b3ca"
   },
   "source": []
  },
  {
   "cell_type": "code",
   "execution_count": 36,
   "id": "I2hnGgkFJ1_B",
   "metadata": {
    "id": "I2hnGgkFJ1_B",
    "outputId": "a6bb5476-9183-4a6e-e2bf-ffeb5aca4a43"
   },
   "outputs": [
    {
     "name": "stdout",
     "output_type": "stream",
     "text": [
      "Slusarski\n"
     ]
    }
   ],
   "source": [
    "from __future__ import unicode_literals, print_function, division\n",
    "from io import open\n",
    "import glob\n",
    "import os\n",
    "\n",
    "def findFiles(path): return glob.glob(path)\n",
    "\n",
    "import unicodedata\n",
    "import string\n",
    "\n",
    "all_letters = string.ascii_letters + \" .,;'\"\n",
    "n_letters = len(all_letters)\n",
    "def unicodeToAscii(s):\n",
    "    return ''.join(\n",
    "        c for c in unicodedata.normalize('NFD', s)\n",
    "        if unicodedata.category(c) != 'Mn'\n",
    "        and c in all_letters\n",
    "    )\n",
    "\n",
    "print(unicodeToAscii('Ślusàrski'))\n",
    "\n",
    "category_lines = {}\n",
    "all_categories = []\n",
    "def readLines(filename):\n",
    "    lines = open(filename, encoding='utf-8').read().strip().split('\\n')\n",
    "    return [unicodeToAscii(line) for line in lines]\n",
    "\n",
    "for filename in findFiles('data/names/*.txt'):\n",
    "    category = os.path.splitext(os.path.basename(filename))[0]\n",
    "    all_categories.append(category)\n",
    "    lines = readLines(filename)\n",
    "    category_lines[category] = lines\n",
    "\n",
    "n_categories = len(all_categories)"
   ]
  },
  {
   "cell_type": "code",
   "execution_count": 37,
   "id": "46uDPdE1J1_M",
   "metadata": {
    "id": "46uDPdE1J1_M"
   },
   "outputs": [],
   "source": [
    "import torch\n",
    "\n",
    "def letterToIndex(letter):\n",
    "    return all_letters.find(letter)\n",
    "\n",
    "def letterToTensor(letter):\n",
    "    tensor = torch.zeros(1, n_letters)\n",
    "    tensor[0][letterToIndex(letter)] = 1\n",
    "    return tensor\n",
    "\n",
    "def lineToTensor(line):\n",
    "    tensor = torch.zeros(len(line), 1, n_letters)\n",
    "    for li, letter in enumerate(line):\n",
    "        tensor[li][0][letterToIndex(letter)] = 1\n",
    "    return tensor\n",
    "\n"
   ]
  },
  {
   "cell_type": "code",
   "execution_count": 38,
   "id": "TI7MEKQmJ1_Q",
   "metadata": {
    "id": "TI7MEKQmJ1_Q"
   },
   "outputs": [],
   "source": [
    "import torch.nn as nn\n",
    "\n",
    "class GRU(nn.Module):\n",
    "    def __init__(self, input_size, hidden_size, output_size):\n",
    "        super(GRU, self).__init__()\n",
    "        self.hidden_size = hidden_size\n",
    "        self.gru_cell = nn.GRU(input_size, hidden_size) #gru cell\n",
    "        self.h2o = nn.Linear(hidden_size, output_size)\n",
    "        self.softmax = nn.LogSoftmax(dim = 2)\n",
    "    \n",
    "    def forward(self, input_, hidden):\n",
    "        out, hidden = self.gru_cell(input_.view(1, 1, -1), hidden)\n",
    "        output = self.h2o(hidden)\n",
    "        output = self.softmax(output)\n",
    "        return output.view(1, -1), hidden\n",
    "    \n",
    "    def initHidden(self):\n",
    "        return torch.zeros(1, 1, self.hidden_size)\n",
    "\n",
    "n_hidden = 128\n",
    "gru = GRU(n_letters, n_hidden, n_categories)"
   ]
  },
  {
   "cell_type": "code",
   "execution_count": 39,
   "id": "VgKEjoG1J1_S",
   "metadata": {
    "id": "VgKEjoG1J1_S"
   },
   "outputs": [],
   "source": [
    "input = letterToTensor('A')\n",
    "hidden = torch.zeros(1, 1, n_hidden)\n",
    "\n",
    "output, next_hidden = gru(input, hidden)"
   ]
  },
  {
   "cell_type": "code",
   "execution_count": 40,
   "id": "iPYTO8YBJ1_T",
   "metadata": {
    "id": "iPYTO8YBJ1_T"
   },
   "outputs": [],
   "source": [
    "input = lineToTensor('Albert')\n",
    "hidden = torch.zeros(1, 1, n_hidden)\n",
    "\n",
    "output, next_hidden = gru(input[0], hidden)"
   ]
  },
  {
   "cell_type": "code",
   "execution_count": 41,
   "id": "yr1imZWqJ1_V",
   "metadata": {
    "id": "yr1imZWqJ1_V"
   },
   "outputs": [],
   "source": [
    "def categoryFromOutput(output):\n",
    "    top_n, top_i = output.topk(1)\n",
    "    category_i = top_i[0].item()\n",
    "    return all_categories[category_i], category_i"
   ]
  },
  {
   "cell_type": "code",
   "execution_count": 42,
   "id": "HURt4uULJ1_X",
   "metadata": {
    "id": "HURt4uULJ1_X",
    "outputId": "3ede9582-95cd-486a-bf52-7584a4bf380e"
   },
   "outputs": [
    {
     "name": "stdout",
     "output_type": "stream",
     "text": [
      "category = German / line = Brahms\n",
      "category = Dutch / line = Meeuweszen\n",
      "category = Japanese / line = Hamacho\n",
      "category = Scottish / line = Lindsay\n",
      "category = Arabic / line = Wasem\n",
      "category = Scottish / line = Morrison\n",
      "category = Korean / line = Lee\n",
      "category = Czech / line = Konarik\n",
      "category = Dutch / line = Kolen\n",
      "category = Irish / line = O'Rourke\n"
     ]
    }
   ],
   "source": [
    "import random\n",
    "\n",
    "def randomChoice(l):\n",
    "    return l[random.randint(0, len(l) - 1)]\n",
    "\n",
    "def randomTrainingExample():\n",
    "    category = randomChoice(all_categories)\n",
    "    line = randomChoice(category_lines[category])\n",
    "    category_tensor = torch.tensor([all_categories.index(category)], dtype=torch.long)\n",
    "    line_tensor = lineToTensor(line)\n",
    "    return category, line, category_tensor, line_tensor\n",
    "\n",
    "for i in range(10):\n",
    "    category, line, category_tensor, line_tensor = randomTrainingExample()\n",
    "    print('category =', category, '/ line =', line)"
   ]
  },
  {
   "cell_type": "code",
   "execution_count": 43,
   "id": "CxpEst73J1_Y",
   "metadata": {
    "id": "CxpEst73J1_Y"
   },
   "outputs": [],
   "source": [
    "criterion = nn.NLLLoss()"
   ]
  },
  {
   "cell_type": "code",
   "execution_count": 44,
   "id": "gQ0PRvGsJ1_a",
   "metadata": {
    "id": "gQ0PRvGsJ1_a"
   },
   "outputs": [],
   "source": [
    "learning_rate = 0.005 \n",
    "\n",
    "def train(category_tensor, line_tensor):\n",
    "    hidden = gru.initHidden()\n",
    "\n",
    "    gru.zero_grad()\n",
    "\n",
    "    for i in range(line_tensor.size()[0]):\n",
    "        output, hidden = gru(line_tensor[i], hidden)\n",
    "    loss = criterion(output, category_tensor)\n",
    "    loss.backward()\n",
    "\n",
    "    for p in gru.parameters():\n",
    "        p.data.add_(p.grad.data, alpha=-learning_rate)\n",
    "\n",
    "    return output, loss.item()"
   ]
  },
  {
   "cell_type": "code",
   "execution_count": 45,
   "id": "inHg_73tJ1_b",
   "metadata": {
    "id": "inHg_73tJ1_b",
    "outputId": "7b4b7964-6437-4e37-c85b-9b8a329a2a67",
    "scrolled": true
   },
   "outputs": [
    {
     "name": "stdout",
     "output_type": "stream",
     "text": [
      "5000 5% (0m 11s) 2.8256 Albert / French ✗ (Spanish)\n",
      "10000 10% (0m 23s) 2.6711 Shum / Chinese ✓\n",
      "15000 15% (0m 35s) 2.6209 Sierra / Japanese ✗ (Spanish)\n",
      "20000 20% (0m 47s) 1.9239 Tomanek / Czech ✓\n",
      "25000 25% (0m 59s) 3.2063 Amatore / French ✗ (Italian)\n",
      "30000 30% (1m 11s) 2.1935 Janca / Spanish ✗ (Czech)\n",
      "35000 35% (1m 22s) 1.0724 Yuan / Vietnamese ✗ (Chinese)\n",
      "40000 40% (1m 34s) 3.4815 Douthwaite / Japanese ✗ (English)\n",
      "45000 45% (1m 46s) 1.4928 D'cruz / Spanish ✗ (Portuguese)\n",
      "50000 50% (1m 58s) 2.9359 Adam / Arabic ✗ (Irish)\n",
      "55000 55% (2m 9s) 0.7811 Orellana / Spanish ✓\n",
      "60000 60% (2m 21s) 1.6929 Hafernik / Russian ✗ (Czech)\n",
      "65000 65% (2m 33s) 0.4805 Hideaki / Japanese ✓\n",
      "70000 70% (2m 45s) 0.8069 Lobo / Portuguese ✓\n",
      "75000 75% (2m 57s) 3.2820 Kalbfleisch / Czech ✗ (German)\n",
      "80000 80% (3m 9s) 2.0678 Campbell / Dutch ✗ (Scottish)\n",
      "85000 85% (3m 20s) 2.4592 O'Shea / Japanese ✗ (Irish)\n",
      "90000 90% (3m 32s) 1.3425 Nicastro / Spanish ✗ (Italian)\n",
      "95000 95% (3m 44s) 1.3402 Garber / German ✓\n",
      "100000 100% (3m 56s) 2.5637 Fairbrother / Dutch ✗ (English)\n"
     ]
    }
   ],
   "source": [
    "import time\n",
    "import math\n",
    "\n",
    "n_iters = 100000\n",
    "print_every = 5000\n",
    "plot_every = 1000\n",
    "\n",
    "\n",
    "\n",
    "# Keep track of losses for plotting\n",
    "current_loss = 0\n",
    "all_losses = []\n",
    "\n",
    "def timeSince(since):\n",
    "    now = time.time()\n",
    "    s = now - since\n",
    "    m = math.floor(s / 60)\n",
    "    s -= m * 60\n",
    "    return '%dm %ds' % (m, s)\n",
    "\n",
    "start = time.time()\n",
    "\n",
    "for iter in range(1, n_iters + 1):\n",
    "    category, line, category_tensor, line_tensor = randomTrainingExample()\n",
    "    output, loss = train(category_tensor, line_tensor)\n",
    "    current_loss += loss\n",
    "    if iter % print_every == 0:\n",
    "        guess, guess_i = categoryFromOutput(output)\n",
    "        correct = '✓' if guess == category else '✗ (%s)' % category\n",
    "        print('%d %d%% (%s) %.4f %s / %s %s' % (iter, iter / n_iters * 100, timeSince(start), loss, line, guess, correct))\n",
    "\n",
    "    if iter % plot_every == 0:\n",
    "        all_losses.append(current_loss / plot_every)\n",
    "        current_loss = 0"
   ]
  },
  {
   "cell_type": "markdown",
   "id": "DZmvQaNIJ1_d",
   "metadata": {
    "id": "DZmvQaNIJ1_d"
   },
   "source": [
    "### Plotting the Results\n",
    "--------------------\n",
    "\n",
    "Plotting the historical loss from ``all_losses`` shows the network\n",
    "learning:\n",
    "\n",
    "\n"
   ]
  },
  {
   "cell_type": "code",
   "execution_count": 46,
   "id": "x5Lw_IkAJ1_e",
   "metadata": {
    "id": "x5Lw_IkAJ1_e",
    "outputId": "4ed8eb48-4271-4f3b-de7e-cdd10596f50a"
   },
   "outputs": [
    {
     "data": {
      "text/plain": [
       "[<matplotlib.lines.Line2D at 0x7f389f2d06d0>]"
      ]
     },
     "execution_count": 46,
     "metadata": {},
     "output_type": "execute_result"
    },
    {
     "data": {
      "image/png": "[encoded data removed]",
      "text/plain": [
       "<Figure size 432x288 with 1 Axes>"
      ]
     },
     "metadata": {
      "needs_background": "light"
     },
     "output_type": "display_data"
    }
   ],
   "source": [
    "import matplotlib.pyplot as plt\n",
    "import matplotlib.ticker as ticker\n",
    "\n",
    "plt.figure()\n",
    "plt.plot(all_losses)"
   ]
  },
  {
   "cell_type": "code",
   "execution_count": 47,
   "id": "ewqK89SzJ1_f",
   "metadata": {
    "id": "ewqK89SzJ1_f",
    "outputId": "49c4d416-554f-4775-b2e2-e636b6bbef23"
   },
   "outputs": [
    {
     "name": "stderr",
     "output_type": "stream",
     "text": [
      "/tmp/ipykernel_3033/2129871859.py:27: UserWarning: FixedFormatter should only be used together with FixedLocator\n",
      "  ax.set_xticklabels([''] + all_categories, rotation=90)\n",
      "/tmp/ipykernel_3033/2129871859.py:28: UserWarning: FixedFormatter should only be used together with FixedLocator\n",
      "  ax.set_yticklabels([''] + all_categories)\n"
     ]
    },
    {
     "data": {
      "image/png": "[encoded data removed]",
      "text/plain": [
       "<Figure size 432x288 with 2 Axes>"
      ]
     },
     "metadata": {
      "needs_background": "light"
     },
     "output_type": "display_data"
    }
   ],
   "source": [
    "confusion = torch.zeros(n_categories, n_categories)\n",
    "n_confusion = 10000\n",
    "\n",
    "def evaluate(line_tensor):\n",
    "    hidden = gru.initHidden()\n",
    "\n",
    "    for i in range(line_tensor.size()[0]):\n",
    "        output, hidden = gru(line_tensor[i], hidden)\n",
    "\n",
    "    return output\n",
    "\n",
    "for i in range(n_confusion):\n",
    "    category, line, category_tensor, line_tensor = randomTrainingExample()\n",
    "    output = evaluate(line_tensor)\n",
    "    guess, guess_i = categoryFromOutput(output)\n",
    "    category_i = all_categories.index(category)\n",
    "    confusion[category_i][guess_i] += 1\n",
    "\n",
    "for i in range(n_categories):\n",
    "    confusion[i] = confusion[i] / confusion[i].sum()\n",
    "\n",
    "fig = plt.figure()\n",
    "ax = fig.add_subplot(111)\n",
    "cax = ax.matshow(confusion.numpy())\n",
    "fig.colorbar(cax)\n",
    "\n",
    "ax.set_xticklabels([''] + all_categories, rotation=90)\n",
    "ax.set_yticklabels([''] + all_categories)\n",
    "\n",
    "ax.xaxis.set_major_locator(ticker.MultipleLocator(1))\n",
    "ax.yaxis.set_major_locator(ticker.MultipleLocator(1))\n",
    "plt.show()"
   ]
  },
  {
   "cell_type": "markdown",
   "id": "ohq0Cph_J1_g",
   "metadata": {
    "id": "ohq0Cph_J1_g"
   },
   "source": [
    "# LSTM"
   ]
  },
  {
   "cell_type": "code",
   "execution_count": 48,
   "id": "_7TJTumnJ1_h",
   "metadata": {
    "id": "_7TJTumnJ1_h"
   },
   "outputs": [],
   "source": [
    "class LSTM(nn.Module):\n",
    "    def __init__(self, input_size, hidden_size, output_size):\n",
    "        super(LSTM, self).__init__()\n",
    "        self.hidden_size = hidden_size\n",
    "        self.lstm_cell = nn.LSTM(input_size, hidden_size) #LSTM cell\n",
    "        self.h2o = nn.Linear(hidden_size, output_size)\n",
    "        self.softmax = nn.LogSoftmax(dim = 2)\n",
    "\n",
    "    def forward(self, input_, hidden):\n",
    "        out, hidden = self.lstm_cell(input_.view(1, 1, -1), hidden)\n",
    "        output = self.h2o(hidden[0])\n",
    "        output = self.softmax(output)\n",
    "        return output.view(1, -1), hidden\n",
    "\n",
    "    def initHidden(self):\n",
    "        return (torch.zeros(1, 1, self.hidden_size), torch.zeros(1, 1, self.hidden_size))\n",
    "\n",
    "n_hidden = 128\n",
    "lstm = LSTM(n_letters, n_hidden, n_categories)"
   ]
  },
  {
   "cell_type": "code",
   "execution_count": 49,
   "id": "E97gUJhTJ1_i",
   "metadata": {
    "id": "E97gUJhTJ1_i"
   },
   "outputs": [],
   "source": [
    "learning_rate = 0.0005 # If you set this too high, it might explode. If too low, it might not learn\n",
    "\n",
    "def train(category_tensor, line_tensor):\n",
    "    hidden = lstm.initHidden()\n",
    "\n",
    "    lstm.zero_grad()\n",
    "\n",
    "    for i in range(line_tensor.size()[0]):\n",
    "        output, hidden = lstm(line_tensor[i], hidden)\n",
    "\n",
    "    loss = criterion(output, category_tensor)\n",
    "    loss.backward()\n",
    "\n",
    "    for p in lstm.parameters():\n",
    "        p.data.add_(p.grad.data, alpha=-learning_rate)\n",
    "\n",
    "    return output, loss.item()"
   ]
  },
  {
   "cell_type": "code",
   "execution_count": 50,
   "id": "WsrquSRBJ1_i",
   "metadata": {
    "id": "WsrquSRBJ1_i",
    "outputId": "0ff4aff4-d9a8-4d44-c6a9-f9da6c6a9e79"
   },
   "outputs": [
    {
     "name": "stdout",
     "output_type": "stream",
     "text": [
      "5000 5% (0m 12s) 2.8474 Torii / Spanish ✗ (Japanese)\n",
      "10000 10% (0m 25s) 2.8435 Saifulin / Portuguese ✗ (Russian)\n",
      "15000 15% (0m 37s) 2.8670 Rodriguez / Vietnamese ✗ (Spanish)\n",
      "20000 20% (0m 50s) 2.8468 Rocha / Portuguese ✓\n",
      "25000 25% (1m 3s) 2.8713 Johnston / Portuguese ✗ (Scottish)\n",
      "30000 30% (1m 15s) 2.8866 Kalb / Portuguese ✗ (Arabic)\n",
      "35000 35% (1m 28s) 2.8749 Seghers / Portuguese ✗ (Dutch)\n",
      "40000 40% (1m 41s) 2.9156 Jiang / German ✗ (Chinese)\n",
      "45000 45% (1m 53s) 2.8460 Bruhn / German ✓\n",
      "50000 50% (2m 6s) 2.8811 Sook / Portuguese ✗ (Korean)\n",
      "55000 55% (2m 19s) 2.8668 Grant / English ✗ (Scottish)\n",
      "60000 60% (2m 31s) 2.9479 Jelen / English ✗ (Polish)\n",
      "65000 65% (2m 44s) 2.8705 Lennon / English ✗ (Irish)\n",
      "70000 70% (2m 56s) 2.8719 Maslanka / Japanese ✗ (Polish)\n",
      "75000 75% (3m 9s) 2.9157 Kwan / Japanese ✗ (Chinese)\n",
      "80000 80% (3m 22s) 2.8423 Meeuweszen / Dutch ✓\n",
      "85000 85% (3m 34s) 2.8795 Husk / Polish ✗ (Czech)\n",
      "90000 90% (3m 47s) 2.9326 She / Dutch ✗ (Chinese)\n",
      "95000 95% (4m 0s) 2.8924 Comtois / Greek ✗ (French)\n",
      "100000 100% (4m 12s) 2.9246 Shaw / Arabic ✗ (Chinese)\n"
     ]
    }
   ],
   "source": [
    "import time\n",
    "import math\n",
    "\n",
    "n_iters = 100000\n",
    "print_every = 5000\n",
    "plot_every = 1000\n",
    "\n",
    "\n",
    "\n",
    "# Keep track of losses for plotting\n",
    "current_loss = 0\n",
    "all_losses = []\n",
    "\n",
    "def timeSince(since):\n",
    "    now = time.time()\n",
    "    s = now - since\n",
    "    m = math.floor(s / 60)\n",
    "    s -= m * 60\n",
    "    return '%dm %ds' % (m, s)\n",
    "\n",
    "start = time.time()\n",
    "\n",
    "for iter in range(1, n_iters + 1):\n",
    "    category, line, category_tensor, line_tensor = randomTrainingExample()\n",
    "    output, loss = train(category_tensor, line_tensor)\n",
    "    current_loss += loss\n",
    "\n",
    "    if iter % print_every == 0:\n",
    "        guess, guess_i = categoryFromOutput(output)\n",
    "        correct = '✓' if guess == category else '✗ (%s)' % category\n",
    "        print('%d %d%% (%s) %.4f %s / %s %s' % (iter, iter / n_iters * 100, timeSince(start), loss, line, guess, correct))\n",
    "\n",
    "    if iter % plot_every == 0:\n",
    "        all_losses.append(current_loss / plot_every)\n",
    "        current_loss = 0"
   ]
  },
  {
   "cell_type": "code",
   "execution_count": 51,
   "id": "hEFfj6ZVJ1_j",
   "metadata": {
    "id": "hEFfj6ZVJ1_j",
    "outputId": "2c09eae3-ddd9-41ad-b298-c64231fb7c1f"
   },
   "outputs": [
    {
     "data": {
      "text/plain": [
       "[<matplotlib.lines.Line2D at 0x7f389f064a90>]"
      ]
     },
     "execution_count": 51,
     "metadata": {},
     "output_type": "execute_result"
    },
    {
     "data": {
      "image/png": "[encoded data removed]",
      "text/plain": [
       "<Figure size 432x288 with 1 Axes>"
      ]
     },
     "metadata": {
      "needs_background": "light"
     },
     "output_type": "display_data"
    }
   ],
   "source": [
    "import matplotlib.pyplot as plt\n",
    "import matplotlib.ticker as ticker\n",
    "\n",
    "plt.figure()\n",
    "plt.plot(all_losses)"
   ]
  },
  {
   "cell_type": "code",
   "execution_count": 52,
   "id": "8IcmZKq7J1_j",
   "metadata": {
    "id": "8IcmZKq7J1_j",
    "outputId": "0b114d5b-60cb-4f3e-f6be-582e3f5cb7af",
    "scrolled": true
   },
   "outputs": [
    {
     "name": "stderr",
     "output_type": "stream",
     "text": [
      "/tmp/ipykernel_3033/4175093726.py:27: UserWarning: FixedFormatter should only be used together with FixedLocator\n",
      "  ax.set_xticklabels([''] + all_categories, rotation=90)\n",
      "/tmp/ipykernel_3033/4175093726.py:28: UserWarning: FixedFormatter should only be used together with FixedLocator\n",
      "  ax.set_yticklabels([''] + all_categories)\n"
     ]
    },
    {
     "data": {
      "image/png": "[encoded data removed]",
      "text/plain": [
       "<Figure size 432x288 with 2 Axes>"
      ]
     },
     "metadata": {
      "needs_background": "light"
     },
     "output_type": "display_data"
    }
   ],
   "source": [
    "confusion = torch.zeros(n_categories, n_categories)\n",
    "n_confusion = 10000\n",
    "\n",
    "def evaluate(line_tensor):\n",
    "    hidden = lstm.initHidden()\n",
    "\n",
    "    for i in range(line_tensor.size()[0]):\n",
    "        output, hidden = lstm(line_tensor[i], hidden)\n",
    "\n",
    "    return output\n",
    "\n",
    "for i in range(n_confusion):\n",
    "    category, line, category_tensor, line_tensor = randomTrainingExample()\n",
    "    output = evaluate(line_tensor)\n",
    "    guess, guess_i = categoryFromOutput(output)\n",
    "    category_i = all_categories.index(category)\n",
    "    confusion[category_i][guess_i] += 1\n",
    "\n",
    "for i in range(n_categories):\n",
    "    confusion[i] = confusion[i] / confusion[i].sum()\n",
    "\n",
    "fig = plt.figure()\n",
    "ax = fig.add_subplot(111)\n",
    "cax = ax.matshow(confusion.numpy())\n",
    "fig.colorbar(cax)\n",
    "\n",
    "ax.set_xticklabels([''] + all_categories, rotation=90)\n",
    "ax.set_yticklabels([''] + all_categories)\n",
    "\n",
    "ax.xaxis.set_major_locator(ticker.MultipleLocator(1))\n",
    "ax.yaxis.set_major_locator(ticker.MultipleLocator(1))\n",
    "\n",
    "plt.show()"
   ]
  }
 ],
 "metadata": {
  "colab": {
   "collapsed_sections": [
    "63f91f23",
    "440ffe97",
    "19d51f9a",
    "b0d83095"
   ],
   "name": "CS19BTECH11012-hw6.ipynb",
   "provenance": []
  },
  "kernelspec": {
   "display_name": "Python 3 (ipykernel)",
   "language": "python",
   "name": "python3"
  },
  "language_info": {
   "codemirror_mode": {
    "name": "ipython",
    "version": 3
   },
   "file_extension": ".py",
   "mimetype": "text/x-python",
   "name": "python",
   "nbconvert_exporter": "python",
   "pygments_lexer": "ipython3",
   "version": "3.9.7"
  }
 },
 "nbformat": 4,
 "nbformat_minor": 5
}
